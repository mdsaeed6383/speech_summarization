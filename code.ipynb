{
  "nbformat": 4,
  "nbformat_minor": 0,
  "metadata": {
    "colab": {
      "provenance": [],
      "machine_shape": "hm",
      "gpuType": "T4"
    },
    "kernelspec": {
      "name": "python3",
      "display_name": "Python 3"
    },
    "language_info": {
      "name": "python"
    },
    "accelerator": "GPU",
    "widgets": {
      "application/vnd.jupyter.widget-state+json": {
        "7edb907ec24f4ec3ac3ea2a5f9c8b420": {
          "model_module": "@jupyter-widgets/controls",
          "model_name": "HBoxModel",
          "model_module_version": "1.5.0",
          "state": {
            "_dom_classes": [],
            "_model_module": "@jupyter-widgets/controls",
            "_model_module_version": "1.5.0",
            "_model_name": "HBoxModel",
            "_view_count": null,
            "_view_module": "@jupyter-widgets/controls",
            "_view_module_version": "1.5.0",
            "_view_name": "HBoxView",
            "box_style": "",
            "children": [
              "IPY_MODEL_414ce432f4ee46c296e1b02bc0a71c40",
              "IPY_MODEL_90ecd6bd240f4c0f8a433ac9d67d8f4f",
              "IPY_MODEL_5d7f8857fe2c411583efee5fe3899fab"
            ],
            "layout": "IPY_MODEL_8ff018fa63344ce184667171e1aa3cbe"
          }
        },
        "414ce432f4ee46c296e1b02bc0a71c40": {
          "model_module": "@jupyter-widgets/controls",
          "model_name": "HTMLModel",
          "model_module_version": "1.5.0",
          "state": {
            "_dom_classes": [],
            "_model_module": "@jupyter-widgets/controls",
            "_model_module_version": "1.5.0",
            "_model_name": "HTMLModel",
            "_view_count": null,
            "_view_module": "@jupyter-widgets/controls",
            "_view_module_version": "1.5.0",
            "_view_name": "HTMLView",
            "description": "",
            "description_tooltip": null,
            "layout": "IPY_MODEL_a7cd8fa8794d461894d792e2eb4e8c95",
            "placeholder": "​",
            "style": "IPY_MODEL_db3cc1eea204425baeaaf8ef6870ad1d",
            "value": "config.json: 100%"
          }
        },
        "90ecd6bd240f4c0f8a433ac9d67d8f4f": {
          "model_module": "@jupyter-widgets/controls",
          "model_name": "FloatProgressModel",
          "model_module_version": "1.5.0",
          "state": {
            "_dom_classes": [],
            "_model_module": "@jupyter-widgets/controls",
            "_model_module_version": "1.5.0",
            "_model_name": "FloatProgressModel",
            "_view_count": null,
            "_view_module": "@jupyter-widgets/controls",
            "_view_module_version": "1.5.0",
            "_view_name": "ProgressView",
            "bar_style": "success",
            "description": "",
            "description_tooltip": null,
            "layout": "IPY_MODEL_b9e697a523434d95872c5aaf9d1ef29f",
            "max": 1596,
            "min": 0,
            "orientation": "horizontal",
            "style": "IPY_MODEL_0aae512c025543b3a88119a9a5e13aae",
            "value": 1596
          }
        },
        "5d7f8857fe2c411583efee5fe3899fab": {
          "model_module": "@jupyter-widgets/controls",
          "model_name": "HTMLModel",
          "model_module_version": "1.5.0",
          "state": {
            "_dom_classes": [],
            "_model_module": "@jupyter-widgets/controls",
            "_model_module_version": "1.5.0",
            "_model_name": "HTMLModel",
            "_view_count": null,
            "_view_module": "@jupyter-widgets/controls",
            "_view_module_version": "1.5.0",
            "_view_name": "HTMLView",
            "description": "",
            "description_tooltip": null,
            "layout": "IPY_MODEL_27ccaceefa0c43e9ba0b13175dc17cea",
            "placeholder": "​",
            "style": "IPY_MODEL_6e38819ce3f04d5dbab7be49d87079d6",
            "value": " 1.60k/1.60k [00:00&lt;00:00, 108kB/s]"
          }
        },
        "8ff018fa63344ce184667171e1aa3cbe": {
          "model_module": "@jupyter-widgets/base",
          "model_name": "LayoutModel",
          "model_module_version": "1.2.0",
          "state": {
            "_model_module": "@jupyter-widgets/base",
            "_model_module_version": "1.2.0",
            "_model_name": "LayoutModel",
            "_view_count": null,
            "_view_module": "@jupyter-widgets/base",
            "_view_module_version": "1.2.0",
            "_view_name": "LayoutView",
            "align_content": null,
            "align_items": null,
            "align_self": null,
            "border": null,
            "bottom": null,
            "display": null,
            "flex": null,
            "flex_flow": null,
            "grid_area": null,
            "grid_auto_columns": null,
            "grid_auto_flow": null,
            "grid_auto_rows": null,
            "grid_column": null,
            "grid_gap": null,
            "grid_row": null,
            "grid_template_areas": null,
            "grid_template_columns": null,
            "grid_template_rows": null,
            "height": null,
            "justify_content": null,
            "justify_items": null,
            "left": null,
            "margin": null,
            "max_height": null,
            "max_width": null,
            "min_height": null,
            "min_width": null,
            "object_fit": null,
            "object_position": null,
            "order": null,
            "overflow": null,
            "overflow_x": null,
            "overflow_y": null,
            "padding": null,
            "right": null,
            "top": null,
            "visibility": null,
            "width": null
          }
        },
        "a7cd8fa8794d461894d792e2eb4e8c95": {
          "model_module": "@jupyter-widgets/base",
          "model_name": "LayoutModel",
          "model_module_version": "1.2.0",
          "state": {
            "_model_module": "@jupyter-widgets/base",
            "_model_module_version": "1.2.0",
            "_model_name": "LayoutModel",
            "_view_count": null,
            "_view_module": "@jupyter-widgets/base",
            "_view_module_version": "1.2.0",
            "_view_name": "LayoutView",
            "align_content": null,
            "align_items": null,
            "align_self": null,
            "border": null,
            "bottom": null,
            "display": null,
            "flex": null,
            "flex_flow": null,
            "grid_area": null,
            "grid_auto_columns": null,
            "grid_auto_flow": null,
            "grid_auto_rows": null,
            "grid_column": null,
            "grid_gap": null,
            "grid_row": null,
            "grid_template_areas": null,
            "grid_template_columns": null,
            "grid_template_rows": null,
            "height": null,
            "justify_content": null,
            "justify_items": null,
            "left": null,
            "margin": null,
            "max_height": null,
            "max_width": null,
            "min_height": null,
            "min_width": null,
            "object_fit": null,
            "object_position": null,
            "order": null,
            "overflow": null,
            "overflow_x": null,
            "overflow_y": null,
            "padding": null,
            "right": null,
            "top": null,
            "visibility": null,
            "width": null
          }
        },
        "db3cc1eea204425baeaaf8ef6870ad1d": {
          "model_module": "@jupyter-widgets/controls",
          "model_name": "DescriptionStyleModel",
          "model_module_version": "1.5.0",
          "state": {
            "_model_module": "@jupyter-widgets/controls",
            "_model_module_version": "1.5.0",
            "_model_name": "DescriptionStyleModel",
            "_view_count": null,
            "_view_module": "@jupyter-widgets/base",
            "_view_module_version": "1.2.0",
            "_view_name": "StyleView",
            "description_width": ""
          }
        },
        "b9e697a523434d95872c5aaf9d1ef29f": {
          "model_module": "@jupyter-widgets/base",
          "model_name": "LayoutModel",
          "model_module_version": "1.2.0",
          "state": {
            "_model_module": "@jupyter-widgets/base",
            "_model_module_version": "1.2.0",
            "_model_name": "LayoutModel",
            "_view_count": null,
            "_view_module": "@jupyter-widgets/base",
            "_view_module_version": "1.2.0",
            "_view_name": "LayoutView",
            "align_content": null,
            "align_items": null,
            "align_self": null,
            "border": null,
            "bottom": null,
            "display": null,
            "flex": null,
            "flex_flow": null,
            "grid_area": null,
            "grid_auto_columns": null,
            "grid_auto_flow": null,
            "grid_auto_rows": null,
            "grid_column": null,
            "grid_gap": null,
            "grid_row": null,
            "grid_template_areas": null,
            "grid_template_columns": null,
            "grid_template_rows": null,
            "height": null,
            "justify_content": null,
            "justify_items": null,
            "left": null,
            "margin": null,
            "max_height": null,
            "max_width": null,
            "min_height": null,
            "min_width": null,
            "object_fit": null,
            "object_position": null,
            "order": null,
            "overflow": null,
            "overflow_x": null,
            "overflow_y": null,
            "padding": null,
            "right": null,
            "top": null,
            "visibility": null,
            "width": null
          }
        },
        "0aae512c025543b3a88119a9a5e13aae": {
          "model_module": "@jupyter-widgets/controls",
          "model_name": "ProgressStyleModel",
          "model_module_version": "1.5.0",
          "state": {
            "_model_module": "@jupyter-widgets/controls",
            "_model_module_version": "1.5.0",
            "_model_name": "ProgressStyleModel",
            "_view_count": null,
            "_view_module": "@jupyter-widgets/base",
            "_view_module_version": "1.2.0",
            "_view_name": "StyleView",
            "bar_color": null,
            "description_width": ""
          }
        },
        "27ccaceefa0c43e9ba0b13175dc17cea": {
          "model_module": "@jupyter-widgets/base",
          "model_name": "LayoutModel",
          "model_module_version": "1.2.0",
          "state": {
            "_model_module": "@jupyter-widgets/base",
            "_model_module_version": "1.2.0",
            "_model_name": "LayoutModel",
            "_view_count": null,
            "_view_module": "@jupyter-widgets/base",
            "_view_module_version": "1.2.0",
            "_view_name": "LayoutView",
            "align_content": null,
            "align_items": null,
            "align_self": null,
            "border": null,
            "bottom": null,
            "display": null,
            "flex": null,
            "flex_flow": null,
            "grid_area": null,
            "grid_auto_columns": null,
            "grid_auto_flow": null,
            "grid_auto_rows": null,
            "grid_column": null,
            "grid_gap": null,
            "grid_row": null,
            "grid_template_areas": null,
            "grid_template_columns": null,
            "grid_template_rows": null,
            "height": null,
            "justify_content": null,
            "justify_items": null,
            "left": null,
            "margin": null,
            "max_height": null,
            "max_width": null,
            "min_height": null,
            "min_width": null,
            "object_fit": null,
            "object_position": null,
            "order": null,
            "overflow": null,
            "overflow_x": null,
            "overflow_y": null,
            "padding": null,
            "right": null,
            "top": null,
            "visibility": null,
            "width": null
          }
        },
        "6e38819ce3f04d5dbab7be49d87079d6": {
          "model_module": "@jupyter-widgets/controls",
          "model_name": "DescriptionStyleModel",
          "model_module_version": "1.5.0",
          "state": {
            "_model_module": "@jupyter-widgets/controls",
            "_model_module_version": "1.5.0",
            "_model_name": "DescriptionStyleModel",
            "_view_count": null,
            "_view_module": "@jupyter-widgets/base",
            "_view_module_version": "1.2.0",
            "_view_name": "StyleView",
            "description_width": ""
          }
        },
        "9dc2a0775f1040469381d7faa647a298": {
          "model_module": "@jupyter-widgets/controls",
          "model_name": "HBoxModel",
          "model_module_version": "1.5.0",
          "state": {
            "_dom_classes": [],
            "_model_module": "@jupyter-widgets/controls",
            "_model_module_version": "1.5.0",
            "_model_name": "HBoxModel",
            "_view_count": null,
            "_view_module": "@jupyter-widgets/controls",
            "_view_module_version": "1.5.0",
            "_view_name": "HBoxView",
            "box_style": "",
            "children": [
              "IPY_MODEL_b6bacc62b2ea4568859a1492a0af67ac",
              "IPY_MODEL_be7d7f17b0a042c38ac332537054ac71",
              "IPY_MODEL_120d65d64d534d70b930a0fd34349377"
            ],
            "layout": "IPY_MODEL_da8e919357d4402fb60cc76dea67f5b9"
          }
        },
        "b6bacc62b2ea4568859a1492a0af67ac": {
          "model_module": "@jupyter-widgets/controls",
          "model_name": "HTMLModel",
          "model_module_version": "1.5.0",
          "state": {
            "_dom_classes": [],
            "_model_module": "@jupyter-widgets/controls",
            "_model_module_version": "1.5.0",
            "_model_name": "HTMLModel",
            "_view_count": null,
            "_view_module": "@jupyter-widgets/controls",
            "_view_module_version": "1.5.0",
            "_view_name": "HTMLView",
            "description": "",
            "description_tooltip": null,
            "layout": "IPY_MODEL_74ce866526f44d96952be7110fb310fe",
            "placeholder": "​",
            "style": "IPY_MODEL_913b1f4cfb6b4aea9b8278e4f9eb49ae",
            "value": "model.safetensors: 100%"
          }
        },
        "be7d7f17b0a042c38ac332537054ac71": {
          "model_module": "@jupyter-widgets/controls",
          "model_name": "FloatProgressModel",
          "model_module_version": "1.5.0",
          "state": {
            "_dom_classes": [],
            "_model_module": "@jupyter-widgets/controls",
            "_model_module_version": "1.5.0",
            "_model_name": "FloatProgressModel",
            "_view_count": null,
            "_view_module": "@jupyter-widgets/controls",
            "_view_module_version": "1.5.0",
            "_view_name": "ProgressView",
            "bar_style": "success",
            "description": "",
            "description_tooltip": null,
            "layout": "IPY_MODEL_a597a8faf65c4b699d724f2f7ad67a31",
            "max": 377607901,
            "min": 0,
            "orientation": "horizontal",
            "style": "IPY_MODEL_362b733f439f48d59e7c5c6574fee521",
            "value": 377607901
          }
        },
        "120d65d64d534d70b930a0fd34349377": {
          "model_module": "@jupyter-widgets/controls",
          "model_name": "HTMLModel",
          "model_module_version": "1.5.0",
          "state": {
            "_dom_classes": [],
            "_model_module": "@jupyter-widgets/controls",
            "_model_module_version": "1.5.0",
            "_model_name": "HTMLModel",
            "_view_count": null,
            "_view_module": "@jupyter-widgets/controls",
            "_view_module_version": "1.5.0",
            "_view_name": "HTMLView",
            "description": "",
            "description_tooltip": null,
            "layout": "IPY_MODEL_71535d6f948b41d287d0614cab76ec1d",
            "placeholder": "​",
            "style": "IPY_MODEL_0f0ce32825f341a1881eebb1f3c93feb",
            "value": " 378M/378M [00:01&lt;00:00, 241MB/s]"
          }
        },
        "da8e919357d4402fb60cc76dea67f5b9": {
          "model_module": "@jupyter-widgets/base",
          "model_name": "LayoutModel",
          "model_module_version": "1.2.0",
          "state": {
            "_model_module": "@jupyter-widgets/base",
            "_model_module_version": "1.2.0",
            "_model_name": "LayoutModel",
            "_view_count": null,
            "_view_module": "@jupyter-widgets/base",
            "_view_module_version": "1.2.0",
            "_view_name": "LayoutView",
            "align_content": null,
            "align_items": null,
            "align_self": null,
            "border": null,
            "bottom": null,
            "display": null,
            "flex": null,
            "flex_flow": null,
            "grid_area": null,
            "grid_auto_columns": null,
            "grid_auto_flow": null,
            "grid_auto_rows": null,
            "grid_column": null,
            "grid_gap": null,
            "grid_row": null,
            "grid_template_areas": null,
            "grid_template_columns": null,
            "grid_template_rows": null,
            "height": null,
            "justify_content": null,
            "justify_items": null,
            "left": null,
            "margin": null,
            "max_height": null,
            "max_width": null,
            "min_height": null,
            "min_width": null,
            "object_fit": null,
            "object_position": null,
            "order": null,
            "overflow": null,
            "overflow_x": null,
            "overflow_y": null,
            "padding": null,
            "right": null,
            "top": null,
            "visibility": null,
            "width": null
          }
        },
        "74ce866526f44d96952be7110fb310fe": {
          "model_module": "@jupyter-widgets/base",
          "model_name": "LayoutModel",
          "model_module_version": "1.2.0",
          "state": {
            "_model_module": "@jupyter-widgets/base",
            "_model_module_version": "1.2.0",
            "_model_name": "LayoutModel",
            "_view_count": null,
            "_view_module": "@jupyter-widgets/base",
            "_view_module_version": "1.2.0",
            "_view_name": "LayoutView",
            "align_content": null,
            "align_items": null,
            "align_self": null,
            "border": null,
            "bottom": null,
            "display": null,
            "flex": null,
            "flex_flow": null,
            "grid_area": null,
            "grid_auto_columns": null,
            "grid_auto_flow": null,
            "grid_auto_rows": null,
            "grid_column": null,
            "grid_gap": null,
            "grid_row": null,
            "grid_template_areas": null,
            "grid_template_columns": null,
            "grid_template_rows": null,
            "height": null,
            "justify_content": null,
            "justify_items": null,
            "left": null,
            "margin": null,
            "max_height": null,
            "max_width": null,
            "min_height": null,
            "min_width": null,
            "object_fit": null,
            "object_position": null,
            "order": null,
            "overflow": null,
            "overflow_x": null,
            "overflow_y": null,
            "padding": null,
            "right": null,
            "top": null,
            "visibility": null,
            "width": null
          }
        },
        "913b1f4cfb6b4aea9b8278e4f9eb49ae": {
          "model_module": "@jupyter-widgets/controls",
          "model_name": "DescriptionStyleModel",
          "model_module_version": "1.5.0",
          "state": {
            "_model_module": "@jupyter-widgets/controls",
            "_model_module_version": "1.5.0",
            "_model_name": "DescriptionStyleModel",
            "_view_count": null,
            "_view_module": "@jupyter-widgets/base",
            "_view_module_version": "1.2.0",
            "_view_name": "StyleView",
            "description_width": ""
          }
        },
        "a597a8faf65c4b699d724f2f7ad67a31": {
          "model_module": "@jupyter-widgets/base",
          "model_name": "LayoutModel",
          "model_module_version": "1.2.0",
          "state": {
            "_model_module": "@jupyter-widgets/base",
            "_model_module_version": "1.2.0",
            "_model_name": "LayoutModel",
            "_view_count": null,
            "_view_module": "@jupyter-widgets/base",
            "_view_module_version": "1.2.0",
            "_view_name": "LayoutView",
            "align_content": null,
            "align_items": null,
            "align_self": null,
            "border": null,
            "bottom": null,
            "display": null,
            "flex": null,
            "flex_flow": null,
            "grid_area": null,
            "grid_auto_columns": null,
            "grid_auto_flow": null,
            "grid_auto_rows": null,
            "grid_column": null,
            "grid_gap": null,
            "grid_row": null,
            "grid_template_areas": null,
            "grid_template_columns": null,
            "grid_template_rows": null,
            "height": null,
            "justify_content": null,
            "justify_items": null,
            "left": null,
            "margin": null,
            "max_height": null,
            "max_width": null,
            "min_height": null,
            "min_width": null,
            "object_fit": null,
            "object_position": null,
            "order": null,
            "overflow": null,
            "overflow_x": null,
            "overflow_y": null,
            "padding": null,
            "right": null,
            "top": null,
            "visibility": null,
            "width": null
          }
        },
        "362b733f439f48d59e7c5c6574fee521": {
          "model_module": "@jupyter-widgets/controls",
          "model_name": "ProgressStyleModel",
          "model_module_version": "1.5.0",
          "state": {
            "_model_module": "@jupyter-widgets/controls",
            "_model_module_version": "1.5.0",
            "_model_name": "ProgressStyleModel",
            "_view_count": null,
            "_view_module": "@jupyter-widgets/base",
            "_view_module_version": "1.2.0",
            "_view_name": "StyleView",
            "bar_color": null,
            "description_width": ""
          }
        },
        "71535d6f948b41d287d0614cab76ec1d": {
          "model_module": "@jupyter-widgets/base",
          "model_name": "LayoutModel",
          "model_module_version": "1.2.0",
          "state": {
            "_model_module": "@jupyter-widgets/base",
            "_model_module_version": "1.2.0",
            "_model_name": "LayoutModel",
            "_view_count": null,
            "_view_module": "@jupyter-widgets/base",
            "_view_module_version": "1.2.0",
            "_view_name": "LayoutView",
            "align_content": null,
            "align_items": null,
            "align_self": null,
            "border": null,
            "bottom": null,
            "display": null,
            "flex": null,
            "flex_flow": null,
            "grid_area": null,
            "grid_auto_columns": null,
            "grid_auto_flow": null,
            "grid_auto_rows": null,
            "grid_column": null,
            "grid_gap": null,
            "grid_row": null,
            "grid_template_areas": null,
            "grid_template_columns": null,
            "grid_template_rows": null,
            "height": null,
            "justify_content": null,
            "justify_items": null,
            "left": null,
            "margin": null,
            "max_height": null,
            "max_width": null,
            "min_height": null,
            "min_width": null,
            "object_fit": null,
            "object_position": null,
            "order": null,
            "overflow": null,
            "overflow_x": null,
            "overflow_y": null,
            "padding": null,
            "right": null,
            "top": null,
            "visibility": null,
            "width": null
          }
        },
        "0f0ce32825f341a1881eebb1f3c93feb": {
          "model_module": "@jupyter-widgets/controls",
          "model_name": "DescriptionStyleModel",
          "model_module_version": "1.5.0",
          "state": {
            "_model_module": "@jupyter-widgets/controls",
            "_model_module_version": "1.5.0",
            "_model_name": "DescriptionStyleModel",
            "_view_count": null,
            "_view_module": "@jupyter-widgets/base",
            "_view_module_version": "1.2.0",
            "_view_name": "StyleView",
            "description_width": ""
          }
        },
        "2a3a02fbe01748fbb10f23251fa6da08": {
          "model_module": "@jupyter-widgets/controls",
          "model_name": "HBoxModel",
          "model_module_version": "1.5.0",
          "state": {
            "_dom_classes": [],
            "_model_module": "@jupyter-widgets/controls",
            "_model_module_version": "1.5.0",
            "_model_name": "HBoxModel",
            "_view_count": null,
            "_view_module": "@jupyter-widgets/controls",
            "_view_module_version": "1.5.0",
            "_view_name": "HBoxView",
            "box_style": "",
            "children": [
              "IPY_MODEL_313045713c9940298f1d2ee4d7640323",
              "IPY_MODEL_c02dcb3f22c94b41b3fbabf6ede8bf40",
              "IPY_MODEL_635180da076e4a8f8aa5eda892d6fd1c"
            ],
            "layout": "IPY_MODEL_472554b2441845c6b55112d1a8033fa7"
          }
        },
        "313045713c9940298f1d2ee4d7640323": {
          "model_module": "@jupyter-widgets/controls",
          "model_name": "HTMLModel",
          "model_module_version": "1.5.0",
          "state": {
            "_dom_classes": [],
            "_model_module": "@jupyter-widgets/controls",
            "_model_module_version": "1.5.0",
            "_model_name": "HTMLModel",
            "_view_count": null,
            "_view_module": "@jupyter-widgets/controls",
            "_view_module_version": "1.5.0",
            "_view_name": "HTMLView",
            "description": "",
            "description_tooltip": null,
            "layout": "IPY_MODEL_dbd4be3e707f40c386e00bcb9ee777fb",
            "placeholder": "​",
            "style": "IPY_MODEL_041324f7fd0647d9bbd1ab4944331969",
            "value": "preprocessor_config.json: 100%"
          }
        },
        "c02dcb3f22c94b41b3fbabf6ede8bf40": {
          "model_module": "@jupyter-widgets/controls",
          "model_name": "FloatProgressModel",
          "model_module_version": "1.5.0",
          "state": {
            "_dom_classes": [],
            "_model_module": "@jupyter-widgets/controls",
            "_model_module_version": "1.5.0",
            "_model_name": "FloatProgressModel",
            "_view_count": null,
            "_view_module": "@jupyter-widgets/controls",
            "_view_module_version": "1.5.0",
            "_view_name": "ProgressView",
            "bar_style": "success",
            "description": "",
            "description_tooltip": null,
            "layout": "IPY_MODEL_8db95fefc0b949119f2ba980a86e0298",
            "max": 159,
            "min": 0,
            "orientation": "horizontal",
            "style": "IPY_MODEL_e546ab32f9a943ad9d828754b7abf74a",
            "value": 159
          }
        },
        "635180da076e4a8f8aa5eda892d6fd1c": {
          "model_module": "@jupyter-widgets/controls",
          "model_name": "HTMLModel",
          "model_module_version": "1.5.0",
          "state": {
            "_dom_classes": [],
            "_model_module": "@jupyter-widgets/controls",
            "_model_module_version": "1.5.0",
            "_model_name": "HTMLModel",
            "_view_count": null,
            "_view_module": "@jupyter-widgets/controls",
            "_view_module_version": "1.5.0",
            "_view_name": "HTMLView",
            "description": "",
            "description_tooltip": null,
            "layout": "IPY_MODEL_7413d4d921444266bc515ea521cba1f4",
            "placeholder": "​",
            "style": "IPY_MODEL_436bc947e23c4059aae747044a12e937",
            "value": " 159/159 [00:00&lt;00:00, 12.3kB/s]"
          }
        },
        "472554b2441845c6b55112d1a8033fa7": {
          "model_module": "@jupyter-widgets/base",
          "model_name": "LayoutModel",
          "model_module_version": "1.2.0",
          "state": {
            "_model_module": "@jupyter-widgets/base",
            "_model_module_version": "1.2.0",
            "_model_name": "LayoutModel",
            "_view_count": null,
            "_view_module": "@jupyter-widgets/base",
            "_view_module_version": "1.2.0",
            "_view_name": "LayoutView",
            "align_content": null,
            "align_items": null,
            "align_self": null,
            "border": null,
            "bottom": null,
            "display": null,
            "flex": null,
            "flex_flow": null,
            "grid_area": null,
            "grid_auto_columns": null,
            "grid_auto_flow": null,
            "grid_auto_rows": null,
            "grid_column": null,
            "grid_gap": null,
            "grid_row": null,
            "grid_template_areas": null,
            "grid_template_columns": null,
            "grid_template_rows": null,
            "height": null,
            "justify_content": null,
            "justify_items": null,
            "left": null,
            "margin": null,
            "max_height": null,
            "max_width": null,
            "min_height": null,
            "min_width": null,
            "object_fit": null,
            "object_position": null,
            "order": null,
            "overflow": null,
            "overflow_x": null,
            "overflow_y": null,
            "padding": null,
            "right": null,
            "top": null,
            "visibility": null,
            "width": null
          }
        },
        "dbd4be3e707f40c386e00bcb9ee777fb": {
          "model_module": "@jupyter-widgets/base",
          "model_name": "LayoutModel",
          "model_module_version": "1.2.0",
          "state": {
            "_model_module": "@jupyter-widgets/base",
            "_model_module_version": "1.2.0",
            "_model_name": "LayoutModel",
            "_view_count": null,
            "_view_module": "@jupyter-widgets/base",
            "_view_module_version": "1.2.0",
            "_view_name": "LayoutView",
            "align_content": null,
            "align_items": null,
            "align_self": null,
            "border": null,
            "bottom": null,
            "display": null,
            "flex": null,
            "flex_flow": null,
            "grid_area": null,
            "grid_auto_columns": null,
            "grid_auto_flow": null,
            "grid_auto_rows": null,
            "grid_column": null,
            "grid_gap": null,
            "grid_row": null,
            "grid_template_areas": null,
            "grid_template_columns": null,
            "grid_template_rows": null,
            "height": null,
            "justify_content": null,
            "justify_items": null,
            "left": null,
            "margin": null,
            "max_height": null,
            "max_width": null,
            "min_height": null,
            "min_width": null,
            "object_fit": null,
            "object_position": null,
            "order": null,
            "overflow": null,
            "overflow_x": null,
            "overflow_y": null,
            "padding": null,
            "right": null,
            "top": null,
            "visibility": null,
            "width": null
          }
        },
        "041324f7fd0647d9bbd1ab4944331969": {
          "model_module": "@jupyter-widgets/controls",
          "model_name": "DescriptionStyleModel",
          "model_module_version": "1.5.0",
          "state": {
            "_model_module": "@jupyter-widgets/controls",
            "_model_module_version": "1.5.0",
            "_model_name": "DescriptionStyleModel",
            "_view_count": null,
            "_view_module": "@jupyter-widgets/base",
            "_view_module_version": "1.2.0",
            "_view_name": "StyleView",
            "description_width": ""
          }
        },
        "8db95fefc0b949119f2ba980a86e0298": {
          "model_module": "@jupyter-widgets/base",
          "model_name": "LayoutModel",
          "model_module_version": "1.2.0",
          "state": {
            "_model_module": "@jupyter-widgets/base",
            "_model_module_version": "1.2.0",
            "_model_name": "LayoutModel",
            "_view_count": null,
            "_view_module": "@jupyter-widgets/base",
            "_view_module_version": "1.2.0",
            "_view_name": "LayoutView",
            "align_content": null,
            "align_items": null,
            "align_self": null,
            "border": null,
            "bottom": null,
            "display": null,
            "flex": null,
            "flex_flow": null,
            "grid_area": null,
            "grid_auto_columns": null,
            "grid_auto_flow": null,
            "grid_auto_rows": null,
            "grid_column": null,
            "grid_gap": null,
            "grid_row": null,
            "grid_template_areas": null,
            "grid_template_columns": null,
            "grid_template_rows": null,
            "height": null,
            "justify_content": null,
            "justify_items": null,
            "left": null,
            "margin": null,
            "max_height": null,
            "max_width": null,
            "min_height": null,
            "min_width": null,
            "object_fit": null,
            "object_position": null,
            "order": null,
            "overflow": null,
            "overflow_x": null,
            "overflow_y": null,
            "padding": null,
            "right": null,
            "top": null,
            "visibility": null,
            "width": null
          }
        },
        "e546ab32f9a943ad9d828754b7abf74a": {
          "model_module": "@jupyter-widgets/controls",
          "model_name": "ProgressStyleModel",
          "model_module_version": "1.5.0",
          "state": {
            "_model_module": "@jupyter-widgets/controls",
            "_model_module_version": "1.5.0",
            "_model_name": "ProgressStyleModel",
            "_view_count": null,
            "_view_module": "@jupyter-widgets/base",
            "_view_module_version": "1.2.0",
            "_view_name": "StyleView",
            "bar_color": null,
            "description_width": ""
          }
        },
        "7413d4d921444266bc515ea521cba1f4": {
          "model_module": "@jupyter-widgets/base",
          "model_name": "LayoutModel",
          "model_module_version": "1.2.0",
          "state": {
            "_model_module": "@jupyter-widgets/base",
            "_model_module_version": "1.2.0",
            "_model_name": "LayoutModel",
            "_view_count": null,
            "_view_module": "@jupyter-widgets/base",
            "_view_module_version": "1.2.0",
            "_view_name": "LayoutView",
            "align_content": null,
            "align_items": null,
            "align_self": null,
            "border": null,
            "bottom": null,
            "display": null,
            "flex": null,
            "flex_flow": null,
            "grid_area": null,
            "grid_auto_columns": null,
            "grid_auto_flow": null,
            "grid_auto_rows": null,
            "grid_column": null,
            "grid_gap": null,
            "grid_row": null,
            "grid_template_areas": null,
            "grid_template_columns": null,
            "grid_template_rows": null,
            "height": null,
            "justify_content": null,
            "justify_items": null,
            "left": null,
            "margin": null,
            "max_height": null,
            "max_width": null,
            "min_height": null,
            "min_width": null,
            "object_fit": null,
            "object_position": null,
            "order": null,
            "overflow": null,
            "overflow_x": null,
            "overflow_y": null,
            "padding": null,
            "right": null,
            "top": null,
            "visibility": null,
            "width": null
          }
        },
        "436bc947e23c4059aae747044a12e937": {
          "model_module": "@jupyter-widgets/controls",
          "model_name": "DescriptionStyleModel",
          "model_module_version": "1.5.0",
          "state": {
            "_model_module": "@jupyter-widgets/controls",
            "_model_module_version": "1.5.0",
            "_model_name": "DescriptionStyleModel",
            "_view_count": null,
            "_view_module": "@jupyter-widgets/base",
            "_view_module_version": "1.2.0",
            "_view_name": "StyleView",
            "description_width": ""
          }
        },
        "9f1f2f72fa0743a488325f71c99cbf99": {
          "model_module": "@jupyter-widgets/controls",
          "model_name": "HBoxModel",
          "model_module_version": "1.5.0",
          "state": {
            "_dom_classes": [],
            "_model_module": "@jupyter-widgets/controls",
            "_model_module_version": "1.5.0",
            "_model_name": "HBoxModel",
            "_view_count": null,
            "_view_module": "@jupyter-widgets/controls",
            "_view_module_version": "1.5.0",
            "_view_name": "HBoxView",
            "box_style": "",
            "children": [
              "IPY_MODEL_31f24c536130435784e53589a9d70f03",
              "IPY_MODEL_2568c22015cc4bd9bdaf562574f5f235",
              "IPY_MODEL_9ad467a11cbb497da8cdf020402a7b13"
            ],
            "layout": "IPY_MODEL_c211067de6334626a8cceebe59cb9564"
          }
        },
        "31f24c536130435784e53589a9d70f03": {
          "model_module": "@jupyter-widgets/controls",
          "model_name": "HTMLModel",
          "model_module_version": "1.5.0",
          "state": {
            "_dom_classes": [],
            "_model_module": "@jupyter-widgets/controls",
            "_model_module_version": "1.5.0",
            "_model_name": "HTMLModel",
            "_view_count": null,
            "_view_module": "@jupyter-widgets/controls",
            "_view_module_version": "1.5.0",
            "_view_name": "HTMLView",
            "description": "",
            "description_tooltip": null,
            "layout": "IPY_MODEL_0e5b069e995f4005b5d167e6c260d6e4",
            "placeholder": "​",
            "style": "IPY_MODEL_eb381a75d6e4400cb61ec94022d2d44d",
            "value": "tokenizer_config.json: 100%"
          }
        },
        "2568c22015cc4bd9bdaf562574f5f235": {
          "model_module": "@jupyter-widgets/controls",
          "model_name": "FloatProgressModel",
          "model_module_version": "1.5.0",
          "state": {
            "_dom_classes": [],
            "_model_module": "@jupyter-widgets/controls",
            "_model_module_version": "1.5.0",
            "_model_name": "FloatProgressModel",
            "_view_count": null,
            "_view_module": "@jupyter-widgets/controls",
            "_view_module_version": "1.5.0",
            "_view_name": "ProgressView",
            "bar_style": "success",
            "description": "",
            "description_tooltip": null,
            "layout": "IPY_MODEL_bc2788c7b6ed4a1e8c2af53e8a09c68f",
            "max": 163,
            "min": 0,
            "orientation": "horizontal",
            "style": "IPY_MODEL_e893aa0d1a004ff5a9299bebaeef5d55",
            "value": 163
          }
        },
        "9ad467a11cbb497da8cdf020402a7b13": {
          "model_module": "@jupyter-widgets/controls",
          "model_name": "HTMLModel",
          "model_module_version": "1.5.0",
          "state": {
            "_dom_classes": [],
            "_model_module": "@jupyter-widgets/controls",
            "_model_module_version": "1.5.0",
            "_model_name": "HTMLModel",
            "_view_count": null,
            "_view_module": "@jupyter-widgets/controls",
            "_view_module_version": "1.5.0",
            "_view_name": "HTMLView",
            "description": "",
            "description_tooltip": null,
            "layout": "IPY_MODEL_635944c658254dd2a7afa8f9b1476901",
            "placeholder": "​",
            "style": "IPY_MODEL_a10e1cf8226940a2973368ce21e75128",
            "value": " 163/163 [00:00&lt;00:00, 12.4kB/s]"
          }
        },
        "c211067de6334626a8cceebe59cb9564": {
          "model_module": "@jupyter-widgets/base",
          "model_name": "LayoutModel",
          "model_module_version": "1.2.0",
          "state": {
            "_model_module": "@jupyter-widgets/base",
            "_model_module_version": "1.2.0",
            "_model_name": "LayoutModel",
            "_view_count": null,
            "_view_module": "@jupyter-widgets/base",
            "_view_module_version": "1.2.0",
            "_view_name": "LayoutView",
            "align_content": null,
            "align_items": null,
            "align_self": null,
            "border": null,
            "bottom": null,
            "display": null,
            "flex": null,
            "flex_flow": null,
            "grid_area": null,
            "grid_auto_columns": null,
            "grid_auto_flow": null,
            "grid_auto_rows": null,
            "grid_column": null,
            "grid_gap": null,
            "grid_row": null,
            "grid_template_areas": null,
            "grid_template_columns": null,
            "grid_template_rows": null,
            "height": null,
            "justify_content": null,
            "justify_items": null,
            "left": null,
            "margin": null,
            "max_height": null,
            "max_width": null,
            "min_height": null,
            "min_width": null,
            "object_fit": null,
            "object_position": null,
            "order": null,
            "overflow": null,
            "overflow_x": null,
            "overflow_y": null,
            "padding": null,
            "right": null,
            "top": null,
            "visibility": null,
            "width": null
          }
        },
        "0e5b069e995f4005b5d167e6c260d6e4": {
          "model_module": "@jupyter-widgets/base",
          "model_name": "LayoutModel",
          "model_module_version": "1.2.0",
          "state": {
            "_model_module": "@jupyter-widgets/base",
            "_model_module_version": "1.2.0",
            "_model_name": "LayoutModel",
            "_view_count": null,
            "_view_module": "@jupyter-widgets/base",
            "_view_module_version": "1.2.0",
            "_view_name": "LayoutView",
            "align_content": null,
            "align_items": null,
            "align_self": null,
            "border": null,
            "bottom": null,
            "display": null,
            "flex": null,
            "flex_flow": null,
            "grid_area": null,
            "grid_auto_columns": null,
            "grid_auto_flow": null,
            "grid_auto_rows": null,
            "grid_column": null,
            "grid_gap": null,
            "grid_row": null,
            "grid_template_areas": null,
            "grid_template_columns": null,
            "grid_template_rows": null,
            "height": null,
            "justify_content": null,
            "justify_items": null,
            "left": null,
            "margin": null,
            "max_height": null,
            "max_width": null,
            "min_height": null,
            "min_width": null,
            "object_fit": null,
            "object_position": null,
            "order": null,
            "overflow": null,
            "overflow_x": null,
            "overflow_y": null,
            "padding": null,
            "right": null,
            "top": null,
            "visibility": null,
            "width": null
          }
        },
        "eb381a75d6e4400cb61ec94022d2d44d": {
          "model_module": "@jupyter-widgets/controls",
          "model_name": "DescriptionStyleModel",
          "model_module_version": "1.5.0",
          "state": {
            "_model_module": "@jupyter-widgets/controls",
            "_model_module_version": "1.5.0",
            "_model_name": "DescriptionStyleModel",
            "_view_count": null,
            "_view_module": "@jupyter-widgets/base",
            "_view_module_version": "1.2.0",
            "_view_name": "StyleView",
            "description_width": ""
          }
        },
        "bc2788c7b6ed4a1e8c2af53e8a09c68f": {
          "model_module": "@jupyter-widgets/base",
          "model_name": "LayoutModel",
          "model_module_version": "1.2.0",
          "state": {
            "_model_module": "@jupyter-widgets/base",
            "_model_module_version": "1.2.0",
            "_model_name": "LayoutModel",
            "_view_count": null,
            "_view_module": "@jupyter-widgets/base",
            "_view_module_version": "1.2.0",
            "_view_name": "LayoutView",
            "align_content": null,
            "align_items": null,
            "align_self": null,
            "border": null,
            "bottom": null,
            "display": null,
            "flex": null,
            "flex_flow": null,
            "grid_area": null,
            "grid_auto_columns": null,
            "grid_auto_flow": null,
            "grid_auto_rows": null,
            "grid_column": null,
            "grid_gap": null,
            "grid_row": null,
            "grid_template_areas": null,
            "grid_template_columns": null,
            "grid_template_rows": null,
            "height": null,
            "justify_content": null,
            "justify_items": null,
            "left": null,
            "margin": null,
            "max_height": null,
            "max_width": null,
            "min_height": null,
            "min_width": null,
            "object_fit": null,
            "object_position": null,
            "order": null,
            "overflow": null,
            "overflow_x": null,
            "overflow_y": null,
            "padding": null,
            "right": null,
            "top": null,
            "visibility": null,
            "width": null
          }
        },
        "e893aa0d1a004ff5a9299bebaeef5d55": {
          "model_module": "@jupyter-widgets/controls",
          "model_name": "ProgressStyleModel",
          "model_module_version": "1.5.0",
          "state": {
            "_model_module": "@jupyter-widgets/controls",
            "_model_module_version": "1.5.0",
            "_model_name": "ProgressStyleModel",
            "_view_count": null,
            "_view_module": "@jupyter-widgets/base",
            "_view_module_version": "1.2.0",
            "_view_name": "StyleView",
            "bar_color": null,
            "description_width": ""
          }
        },
        "635944c658254dd2a7afa8f9b1476901": {
          "model_module": "@jupyter-widgets/base",
          "model_name": "LayoutModel",
          "model_module_version": "1.2.0",
          "state": {
            "_model_module": "@jupyter-widgets/base",
            "_model_module_version": "1.2.0",
            "_model_name": "LayoutModel",
            "_view_count": null,
            "_view_module": "@jupyter-widgets/base",
            "_view_module_version": "1.2.0",
            "_view_name": "LayoutView",
            "align_content": null,
            "align_items": null,
            "align_self": null,
            "border": null,
            "bottom": null,
            "display": null,
            "flex": null,
            "flex_flow": null,
            "grid_area": null,
            "grid_auto_columns": null,
            "grid_auto_flow": null,
            "grid_auto_rows": null,
            "grid_column": null,
            "grid_gap": null,
            "grid_row": null,
            "grid_template_areas": null,
            "grid_template_columns": null,
            "grid_template_rows": null,
            "height": null,
            "justify_content": null,
            "justify_items": null,
            "left": null,
            "margin": null,
            "max_height": null,
            "max_width": null,
            "min_height": null,
            "min_width": null,
            "object_fit": null,
            "object_position": null,
            "order": null,
            "overflow": null,
            "overflow_x": null,
            "overflow_y": null,
            "padding": null,
            "right": null,
            "top": null,
            "visibility": null,
            "width": null
          }
        },
        "a10e1cf8226940a2973368ce21e75128": {
          "model_module": "@jupyter-widgets/controls",
          "model_name": "DescriptionStyleModel",
          "model_module_version": "1.5.0",
          "state": {
            "_model_module": "@jupyter-widgets/controls",
            "_model_module_version": "1.5.0",
            "_model_name": "DescriptionStyleModel",
            "_view_count": null,
            "_view_module": "@jupyter-widgets/base",
            "_view_module_version": "1.2.0",
            "_view_name": "StyleView",
            "description_width": ""
          }
        },
        "ac8bfa378d894dbaa3b9eed196c248b4": {
          "model_module": "@jupyter-widgets/controls",
          "model_name": "HBoxModel",
          "model_module_version": "1.5.0",
          "state": {
            "_dom_classes": [],
            "_model_module": "@jupyter-widgets/controls",
            "_model_module_version": "1.5.0",
            "_model_name": "HBoxModel",
            "_view_count": null,
            "_view_module": "@jupyter-widgets/controls",
            "_view_module_version": "1.5.0",
            "_view_name": "HBoxView",
            "box_style": "",
            "children": [
              "IPY_MODEL_1a79f3dc015e4ccdab342074d07b3764",
              "IPY_MODEL_9a68a6fdce894b708291886d2be322c5",
              "IPY_MODEL_1e16fc724d4c4542bcc6a53eaf38f971"
            ],
            "layout": "IPY_MODEL_6289394d55cc4019a5ed6bc38bb75de8"
          }
        },
        "1a79f3dc015e4ccdab342074d07b3764": {
          "model_module": "@jupyter-widgets/controls",
          "model_name": "HTMLModel",
          "model_module_version": "1.5.0",
          "state": {
            "_dom_classes": [],
            "_model_module": "@jupyter-widgets/controls",
            "_model_module_version": "1.5.0",
            "_model_name": "HTMLModel",
            "_view_count": null,
            "_view_module": "@jupyter-widgets/controls",
            "_view_module_version": "1.5.0",
            "_view_name": "HTMLView",
            "description": "",
            "description_tooltip": null,
            "layout": "IPY_MODEL_052649d55fae4fa6b5d4c283b0ad184d",
            "placeholder": "​",
            "style": "IPY_MODEL_53ea90e502f1411bbb6d32f334f1ba65",
            "value": "vocab.json: 100%"
          }
        },
        "9a68a6fdce894b708291886d2be322c5": {
          "model_module": "@jupyter-widgets/controls",
          "model_name": "FloatProgressModel",
          "model_module_version": "1.5.0",
          "state": {
            "_dom_classes": [],
            "_model_module": "@jupyter-widgets/controls",
            "_model_module_version": "1.5.0",
            "_model_name": "FloatProgressModel",
            "_view_count": null,
            "_view_module": "@jupyter-widgets/controls",
            "_view_module_version": "1.5.0",
            "_view_name": "ProgressView",
            "bar_style": "success",
            "description": "",
            "description_tooltip": null,
            "layout": "IPY_MODEL_02b9997997614d69b978dbc14d4650ea",
            "max": 291,
            "min": 0,
            "orientation": "horizontal",
            "style": "IPY_MODEL_42a2e529bf23458799735095708f1ee8",
            "value": 291
          }
        },
        "1e16fc724d4c4542bcc6a53eaf38f971": {
          "model_module": "@jupyter-widgets/controls",
          "model_name": "HTMLModel",
          "model_module_version": "1.5.0",
          "state": {
            "_dom_classes": [],
            "_model_module": "@jupyter-widgets/controls",
            "_model_module_version": "1.5.0",
            "_model_name": "HTMLModel",
            "_view_count": null,
            "_view_module": "@jupyter-widgets/controls",
            "_view_module_version": "1.5.0",
            "_view_name": "HTMLView",
            "description": "",
            "description_tooltip": null,
            "layout": "IPY_MODEL_485fddec006a44e38a96bc1c3a4e1cc9",
            "placeholder": "​",
            "style": "IPY_MODEL_25c9f5cf755f42e7ac3f187ae8063061",
            "value": " 291/291 [00:00&lt;00:00, 21.3kB/s]"
          }
        },
        "6289394d55cc4019a5ed6bc38bb75de8": {
          "model_module": "@jupyter-widgets/base",
          "model_name": "LayoutModel",
          "model_module_version": "1.2.0",
          "state": {
            "_model_module": "@jupyter-widgets/base",
            "_model_module_version": "1.2.0",
            "_model_name": "LayoutModel",
            "_view_count": null,
            "_view_module": "@jupyter-widgets/base",
            "_view_module_version": "1.2.0",
            "_view_name": "LayoutView",
            "align_content": null,
            "align_items": null,
            "align_self": null,
            "border": null,
            "bottom": null,
            "display": null,
            "flex": null,
            "flex_flow": null,
            "grid_area": null,
            "grid_auto_columns": null,
            "grid_auto_flow": null,
            "grid_auto_rows": null,
            "grid_column": null,
            "grid_gap": null,
            "grid_row": null,
            "grid_template_areas": null,
            "grid_template_columns": null,
            "grid_template_rows": null,
            "height": null,
            "justify_content": null,
            "justify_items": null,
            "left": null,
            "margin": null,
            "max_height": null,
            "max_width": null,
            "min_height": null,
            "min_width": null,
            "object_fit": null,
            "object_position": null,
            "order": null,
            "overflow": null,
            "overflow_x": null,
            "overflow_y": null,
            "padding": null,
            "right": null,
            "top": null,
            "visibility": null,
            "width": null
          }
        },
        "052649d55fae4fa6b5d4c283b0ad184d": {
          "model_module": "@jupyter-widgets/base",
          "model_name": "LayoutModel",
          "model_module_version": "1.2.0",
          "state": {
            "_model_module": "@jupyter-widgets/base",
            "_model_module_version": "1.2.0",
            "_model_name": "LayoutModel",
            "_view_count": null,
            "_view_module": "@jupyter-widgets/base",
            "_view_module_version": "1.2.0",
            "_view_name": "LayoutView",
            "align_content": null,
            "align_items": null,
            "align_self": null,
            "border": null,
            "bottom": null,
            "display": null,
            "flex": null,
            "flex_flow": null,
            "grid_area": null,
            "grid_auto_columns": null,
            "grid_auto_flow": null,
            "grid_auto_rows": null,
            "grid_column": null,
            "grid_gap": null,
            "grid_row": null,
            "grid_template_areas": null,
            "grid_template_columns": null,
            "grid_template_rows": null,
            "height": null,
            "justify_content": null,
            "justify_items": null,
            "left": null,
            "margin": null,
            "max_height": null,
            "max_width": null,
            "min_height": null,
            "min_width": null,
            "object_fit": null,
            "object_position": null,
            "order": null,
            "overflow": null,
            "overflow_x": null,
            "overflow_y": null,
            "padding": null,
            "right": null,
            "top": null,
            "visibility": null,
            "width": null
          }
        },
        "53ea90e502f1411bbb6d32f334f1ba65": {
          "model_module": "@jupyter-widgets/controls",
          "model_name": "DescriptionStyleModel",
          "model_module_version": "1.5.0",
          "state": {
            "_model_module": "@jupyter-widgets/controls",
            "_model_module_version": "1.5.0",
            "_model_name": "DescriptionStyleModel",
            "_view_count": null,
            "_view_module": "@jupyter-widgets/base",
            "_view_module_version": "1.2.0",
            "_view_name": "StyleView",
            "description_width": ""
          }
        },
        "02b9997997614d69b978dbc14d4650ea": {
          "model_module": "@jupyter-widgets/base",
          "model_name": "LayoutModel",
          "model_module_version": "1.2.0",
          "state": {
            "_model_module": "@jupyter-widgets/base",
            "_model_module_version": "1.2.0",
            "_model_name": "LayoutModel",
            "_view_count": null,
            "_view_module": "@jupyter-widgets/base",
            "_view_module_version": "1.2.0",
            "_view_name": "LayoutView",
            "align_content": null,
            "align_items": null,
            "align_self": null,
            "border": null,
            "bottom": null,
            "display": null,
            "flex": null,
            "flex_flow": null,
            "grid_area": null,
            "grid_auto_columns": null,
            "grid_auto_flow": null,
            "grid_auto_rows": null,
            "grid_column": null,
            "grid_gap": null,
            "grid_row": null,
            "grid_template_areas": null,
            "grid_template_columns": null,
            "grid_template_rows": null,
            "height": null,
            "justify_content": null,
            "justify_items": null,
            "left": null,
            "margin": null,
            "max_height": null,
            "max_width": null,
            "min_height": null,
            "min_width": null,
            "object_fit": null,
            "object_position": null,
            "order": null,
            "overflow": null,
            "overflow_x": null,
            "overflow_y": null,
            "padding": null,
            "right": null,
            "top": null,
            "visibility": null,
            "width": null
          }
        },
        "42a2e529bf23458799735095708f1ee8": {
          "model_module": "@jupyter-widgets/controls",
          "model_name": "ProgressStyleModel",
          "model_module_version": "1.5.0",
          "state": {
            "_model_module": "@jupyter-widgets/controls",
            "_model_module_version": "1.5.0",
            "_model_name": "ProgressStyleModel",
            "_view_count": null,
            "_view_module": "@jupyter-widgets/base",
            "_view_module_version": "1.2.0",
            "_view_name": "StyleView",
            "bar_color": null,
            "description_width": ""
          }
        },
        "485fddec006a44e38a96bc1c3a4e1cc9": {
          "model_module": "@jupyter-widgets/base",
          "model_name": "LayoutModel",
          "model_module_version": "1.2.0",
          "state": {
            "_model_module": "@jupyter-widgets/base",
            "_model_module_version": "1.2.0",
            "_model_name": "LayoutModel",
            "_view_count": null,
            "_view_module": "@jupyter-widgets/base",
            "_view_module_version": "1.2.0",
            "_view_name": "LayoutView",
            "align_content": null,
            "align_items": null,
            "align_self": null,
            "border": null,
            "bottom": null,
            "display": null,
            "flex": null,
            "flex_flow": null,
            "grid_area": null,
            "grid_auto_columns": null,
            "grid_auto_flow": null,
            "grid_auto_rows": null,
            "grid_column": null,
            "grid_gap": null,
            "grid_row": null,
            "grid_template_areas": null,
            "grid_template_columns": null,
            "grid_template_rows": null,
            "height": null,
            "justify_content": null,
            "justify_items": null,
            "left": null,
            "margin": null,
            "max_height": null,
            "max_width": null,
            "min_height": null,
            "min_width": null,
            "object_fit": null,
            "object_position": null,
            "order": null,
            "overflow": null,
            "overflow_x": null,
            "overflow_y": null,
            "padding": null,
            "right": null,
            "top": null,
            "visibility": null,
            "width": null
          }
        },
        "25c9f5cf755f42e7ac3f187ae8063061": {
          "model_module": "@jupyter-widgets/controls",
          "model_name": "DescriptionStyleModel",
          "model_module_version": "1.5.0",
          "state": {
            "_model_module": "@jupyter-widgets/controls",
            "_model_module_version": "1.5.0",
            "_model_name": "DescriptionStyleModel",
            "_view_count": null,
            "_view_module": "@jupyter-widgets/base",
            "_view_module_version": "1.2.0",
            "_view_name": "StyleView",
            "description_width": ""
          }
        },
        "2a0ce9860d0841fda2d46989da402c36": {
          "model_module": "@jupyter-widgets/controls",
          "model_name": "HBoxModel",
          "model_module_version": "1.5.0",
          "state": {
            "_dom_classes": [],
            "_model_module": "@jupyter-widgets/controls",
            "_model_module_version": "1.5.0",
            "_model_name": "HBoxModel",
            "_view_count": null,
            "_view_module": "@jupyter-widgets/controls",
            "_view_module_version": "1.5.0",
            "_view_name": "HBoxView",
            "box_style": "",
            "children": [
              "IPY_MODEL_e6a125b0dc7a41028fb7820795d3c96f",
              "IPY_MODEL_55c12708c6404265a76b160fe36cb9e8",
              "IPY_MODEL_028bc3e0964644b190cca3abfc8a15f2"
            ],
            "layout": "IPY_MODEL_dc95b29d89264e48a2e7fda79589a0f2"
          }
        },
        "e6a125b0dc7a41028fb7820795d3c96f": {
          "model_module": "@jupyter-widgets/controls",
          "model_name": "HTMLModel",
          "model_module_version": "1.5.0",
          "state": {
            "_dom_classes": [],
            "_model_module": "@jupyter-widgets/controls",
            "_model_module_version": "1.5.0",
            "_model_name": "HTMLModel",
            "_view_count": null,
            "_view_module": "@jupyter-widgets/controls",
            "_view_module_version": "1.5.0",
            "_view_name": "HTMLView",
            "description": "",
            "description_tooltip": null,
            "layout": "IPY_MODEL_4fa13da0e4f9459ca13ab14633b1ba01",
            "placeholder": "​",
            "style": "IPY_MODEL_05a382b2ce0a480c85df9ccf38090116",
            "value": "special_tokens_map.json: 100%"
          }
        },
        "55c12708c6404265a76b160fe36cb9e8": {
          "model_module": "@jupyter-widgets/controls",
          "model_name": "FloatProgressModel",
          "model_module_version": "1.5.0",
          "state": {
            "_dom_classes": [],
            "_model_module": "@jupyter-widgets/controls",
            "_model_module_version": "1.5.0",
            "_model_name": "FloatProgressModel",
            "_view_count": null,
            "_view_module": "@jupyter-widgets/controls",
            "_view_module_version": "1.5.0",
            "_view_name": "ProgressView",
            "bar_style": "success",
            "description": "",
            "description_tooltip": null,
            "layout": "IPY_MODEL_1459b785e93a4c4196c9316364a9c938",
            "max": 85,
            "min": 0,
            "orientation": "horizontal",
            "style": "IPY_MODEL_27c923e659844179a6a2c9e7bbcaeea1",
            "value": 85
          }
        },
        "028bc3e0964644b190cca3abfc8a15f2": {
          "model_module": "@jupyter-widgets/controls",
          "model_name": "HTMLModel",
          "model_module_version": "1.5.0",
          "state": {
            "_dom_classes": [],
            "_model_module": "@jupyter-widgets/controls",
            "_model_module_version": "1.5.0",
            "_model_name": "HTMLModel",
            "_view_count": null,
            "_view_module": "@jupyter-widgets/controls",
            "_view_module_version": "1.5.0",
            "_view_name": "HTMLView",
            "description": "",
            "description_tooltip": null,
            "layout": "IPY_MODEL_4f5b41ab1b18461b8993f9cab9fb037a",
            "placeholder": "​",
            "style": "IPY_MODEL_a5016202d7d34343ba37807fa765bda2",
            "value": " 85.0/85.0 [00:00&lt;00:00, 5.54kB/s]"
          }
        },
        "dc95b29d89264e48a2e7fda79589a0f2": {
          "model_module": "@jupyter-widgets/base",
          "model_name": "LayoutModel",
          "model_module_version": "1.2.0",
          "state": {
            "_model_module": "@jupyter-widgets/base",
            "_model_module_version": "1.2.0",
            "_model_name": "LayoutModel",
            "_view_count": null,
            "_view_module": "@jupyter-widgets/base",
            "_view_module_version": "1.2.0",
            "_view_name": "LayoutView",
            "align_content": null,
            "align_items": null,
            "align_self": null,
            "border": null,
            "bottom": null,
            "display": null,
            "flex": null,
            "flex_flow": null,
            "grid_area": null,
            "grid_auto_columns": null,
            "grid_auto_flow": null,
            "grid_auto_rows": null,
            "grid_column": null,
            "grid_gap": null,
            "grid_row": null,
            "grid_template_areas": null,
            "grid_template_columns": null,
            "grid_template_rows": null,
            "height": null,
            "justify_content": null,
            "justify_items": null,
            "left": null,
            "margin": null,
            "max_height": null,
            "max_width": null,
            "min_height": null,
            "min_width": null,
            "object_fit": null,
            "object_position": null,
            "order": null,
            "overflow": null,
            "overflow_x": null,
            "overflow_y": null,
            "padding": null,
            "right": null,
            "top": null,
            "visibility": null,
            "width": null
          }
        },
        "4fa13da0e4f9459ca13ab14633b1ba01": {
          "model_module": "@jupyter-widgets/base",
          "model_name": "LayoutModel",
          "model_module_version": "1.2.0",
          "state": {
            "_model_module": "@jupyter-widgets/base",
            "_model_module_version": "1.2.0",
            "_model_name": "LayoutModel",
            "_view_count": null,
            "_view_module": "@jupyter-widgets/base",
            "_view_module_version": "1.2.0",
            "_view_name": "LayoutView",
            "align_content": null,
            "align_items": null,
            "align_self": null,
            "border": null,
            "bottom": null,
            "display": null,
            "flex": null,
            "flex_flow": null,
            "grid_area": null,
            "grid_auto_columns": null,
            "grid_auto_flow": null,
            "grid_auto_rows": null,
            "grid_column": null,
            "grid_gap": null,
            "grid_row": null,
            "grid_template_areas": null,
            "grid_template_columns": null,
            "grid_template_rows": null,
            "height": null,
            "justify_content": null,
            "justify_items": null,
            "left": null,
            "margin": null,
            "max_height": null,
            "max_width": null,
            "min_height": null,
            "min_width": null,
            "object_fit": null,
            "object_position": null,
            "order": null,
            "overflow": null,
            "overflow_x": null,
            "overflow_y": null,
            "padding": null,
            "right": null,
            "top": null,
            "visibility": null,
            "width": null
          }
        },
        "05a382b2ce0a480c85df9ccf38090116": {
          "model_module": "@jupyter-widgets/controls",
          "model_name": "DescriptionStyleModel",
          "model_module_version": "1.5.0",
          "state": {
            "_model_module": "@jupyter-widgets/controls",
            "_model_module_version": "1.5.0",
            "_model_name": "DescriptionStyleModel",
            "_view_count": null,
            "_view_module": "@jupyter-widgets/base",
            "_view_module_version": "1.2.0",
            "_view_name": "StyleView",
            "description_width": ""
          }
        },
        "1459b785e93a4c4196c9316364a9c938": {
          "model_module": "@jupyter-widgets/base",
          "model_name": "LayoutModel",
          "model_module_version": "1.2.0",
          "state": {
            "_model_module": "@jupyter-widgets/base",
            "_model_module_version": "1.2.0",
            "_model_name": "LayoutModel",
            "_view_count": null,
            "_view_module": "@jupyter-widgets/base",
            "_view_module_version": "1.2.0",
            "_view_name": "LayoutView",
            "align_content": null,
            "align_items": null,
            "align_self": null,
            "border": null,
            "bottom": null,
            "display": null,
            "flex": null,
            "flex_flow": null,
            "grid_area": null,
            "grid_auto_columns": null,
            "grid_auto_flow": null,
            "grid_auto_rows": null,
            "grid_column": null,
            "grid_gap": null,
            "grid_row": null,
            "grid_template_areas": null,
            "grid_template_columns": null,
            "grid_template_rows": null,
            "height": null,
            "justify_content": null,
            "justify_items": null,
            "left": null,
            "margin": null,
            "max_height": null,
            "max_width": null,
            "min_height": null,
            "min_width": null,
            "object_fit": null,
            "object_position": null,
            "order": null,
            "overflow": null,
            "overflow_x": null,
            "overflow_y": null,
            "padding": null,
            "right": null,
            "top": null,
            "visibility": null,
            "width": null
          }
        },
        "27c923e659844179a6a2c9e7bbcaeea1": {
          "model_module": "@jupyter-widgets/controls",
          "model_name": "ProgressStyleModel",
          "model_module_version": "1.5.0",
          "state": {
            "_model_module": "@jupyter-widgets/controls",
            "_model_module_version": "1.5.0",
            "_model_name": "ProgressStyleModel",
            "_view_count": null,
            "_view_module": "@jupyter-widgets/base",
            "_view_module_version": "1.2.0",
            "_view_name": "StyleView",
            "bar_color": null,
            "description_width": ""
          }
        },
        "4f5b41ab1b18461b8993f9cab9fb037a": {
          "model_module": "@jupyter-widgets/base",
          "model_name": "LayoutModel",
          "model_module_version": "1.2.0",
          "state": {
            "_model_module": "@jupyter-widgets/base",
            "_model_module_version": "1.2.0",
            "_model_name": "LayoutModel",
            "_view_count": null,
            "_view_module": "@jupyter-widgets/base",
            "_view_module_version": "1.2.0",
            "_view_name": "LayoutView",
            "align_content": null,
            "align_items": null,
            "align_self": null,
            "border": null,
            "bottom": null,
            "display": null,
            "flex": null,
            "flex_flow": null,
            "grid_area": null,
            "grid_auto_columns": null,
            "grid_auto_flow": null,
            "grid_auto_rows": null,
            "grid_column": null,
            "grid_gap": null,
            "grid_row": null,
            "grid_template_areas": null,
            "grid_template_columns": null,
            "grid_template_rows": null,
            "height": null,
            "justify_content": null,
            "justify_items": null,
            "left": null,
            "margin": null,
            "max_height": null,
            "max_width": null,
            "min_height": null,
            "min_width": null,
            "object_fit": null,
            "object_position": null,
            "order": null,
            "overflow": null,
            "overflow_x": null,
            "overflow_y": null,
            "padding": null,
            "right": null,
            "top": null,
            "visibility": null,
            "width": null
          }
        },
        "a5016202d7d34343ba37807fa765bda2": {
          "model_module": "@jupyter-widgets/controls",
          "model_name": "DescriptionStyleModel",
          "model_module_version": "1.5.0",
          "state": {
            "_model_module": "@jupyter-widgets/controls",
            "_model_module_version": "1.5.0",
            "_model_name": "DescriptionStyleModel",
            "_view_count": null,
            "_view_module": "@jupyter-widgets/base",
            "_view_module_version": "1.2.0",
            "_view_name": "StyleView",
            "description_width": ""
          }
        }
      }
    }
  },
  "cells": [
    {
      "cell_type": "code",
      "source": [
        "!pip install torchaudio\n",
        "!pip install transformers\n",
        "!pip install jiwer\n",
        "!pip install language-tool-python pyspellchecker\n"
      ],
      "metadata": {
        "colab": {
          "base_uri": "https://localhost:8080/"
        },
        "id": "QJaM7waLL5v2",
        "outputId": "d95c57d7-8e9f-41d5-972c-03812ab94a6b"
      },
      "execution_count": null,
      "outputs": [
        {
          "output_type": "stream",
          "name": "stdout",
          "text": [
            "Requirement already satisfied: torchaudio in /usr/local/lib/python3.10/dist-packages (2.5.1+cu121)\n",
            "Requirement already satisfied: torch==2.5.1 in /usr/local/lib/python3.10/dist-packages (from torchaudio) (2.5.1+cu121)\n",
            "Requirement already satisfied: filelock in /usr/local/lib/python3.10/dist-packages (from torch==2.5.1->torchaudio) (3.16.1)\n",
            "Requirement already satisfied: typing-extensions>=4.8.0 in /usr/local/lib/python3.10/dist-packages (from torch==2.5.1->torchaudio) (4.12.2)\n",
            "Requirement already satisfied: networkx in /usr/local/lib/python3.10/dist-packages (from torch==2.5.1->torchaudio) (3.4.2)\n",
            "Requirement already satisfied: jinja2 in /usr/local/lib/python3.10/dist-packages (from torch==2.5.1->torchaudio) (3.1.4)\n",
            "Requirement already satisfied: fsspec in /usr/local/lib/python3.10/dist-packages (from torch==2.5.1->torchaudio) (2024.10.0)\n",
            "Requirement already satisfied: sympy==1.13.1 in /usr/local/lib/python3.10/dist-packages (from torch==2.5.1->torchaudio) (1.13.1)\n",
            "Requirement already satisfied: mpmath<1.4,>=1.1.0 in /usr/local/lib/python3.10/dist-packages (from sympy==1.13.1->torch==2.5.1->torchaudio) (1.3.0)\n",
            "Requirement already satisfied: MarkupSafe>=2.0 in /usr/local/lib/python3.10/dist-packages (from jinja2->torch==2.5.1->torchaudio) (3.0.2)\n",
            "Requirement already satisfied: transformers in /usr/local/lib/python3.10/dist-packages (4.46.2)\n",
            "Requirement already satisfied: filelock in /usr/local/lib/python3.10/dist-packages (from transformers) (3.16.1)\n",
            "Requirement already satisfied: huggingface-hub<1.0,>=0.23.2 in /usr/local/lib/python3.10/dist-packages (from transformers) (0.26.2)\n",
            "Requirement already satisfied: numpy>=1.17 in /usr/local/lib/python3.10/dist-packages (from transformers) (1.26.4)\n",
            "Requirement already satisfied: packaging>=20.0 in /usr/local/lib/python3.10/dist-packages (from transformers) (24.2)\n",
            "Requirement already satisfied: pyyaml>=5.1 in /usr/local/lib/python3.10/dist-packages (from transformers) (6.0.2)\n",
            "Requirement already satisfied: regex!=2019.12.17 in /usr/local/lib/python3.10/dist-packages (from transformers) (2024.9.11)\n",
            "Requirement already satisfied: requests in /usr/local/lib/python3.10/dist-packages (from transformers) (2.32.3)\n",
            "Requirement already satisfied: safetensors>=0.4.1 in /usr/local/lib/python3.10/dist-packages (from transformers) (0.4.5)\n",
            "Requirement already satisfied: tokenizers<0.21,>=0.20 in /usr/local/lib/python3.10/dist-packages (from transformers) (0.20.3)\n",
            "Requirement already satisfied: tqdm>=4.27 in /usr/local/lib/python3.10/dist-packages (from transformers) (4.66.6)\n",
            "Requirement already satisfied: fsspec>=2023.5.0 in /usr/local/lib/python3.10/dist-packages (from huggingface-hub<1.0,>=0.23.2->transformers) (2024.10.0)\n",
            "Requirement already satisfied: typing-extensions>=3.7.4.3 in /usr/local/lib/python3.10/dist-packages (from huggingface-hub<1.0,>=0.23.2->transformers) (4.12.2)\n",
            "Requirement already satisfied: charset-normalizer<4,>=2 in /usr/local/lib/python3.10/dist-packages (from requests->transformers) (3.4.0)\n",
            "Requirement already satisfied: idna<4,>=2.5 in /usr/local/lib/python3.10/dist-packages (from requests->transformers) (3.10)\n",
            "Requirement already satisfied: urllib3<3,>=1.21.1 in /usr/local/lib/python3.10/dist-packages (from requests->transformers) (2.2.3)\n",
            "Requirement already satisfied: certifi>=2017.4.17 in /usr/local/lib/python3.10/dist-packages (from requests->transformers) (2024.8.30)\n",
            "Collecting jiwer\n",
            "  Downloading jiwer-3.0.5-py3-none-any.whl.metadata (2.7 kB)\n",
            "Requirement already satisfied: click<9.0.0,>=8.1.3 in /usr/local/lib/python3.10/dist-packages (from jiwer) (8.1.7)\n",
            "Collecting rapidfuzz<4,>=3 (from jiwer)\n",
            "  Downloading rapidfuzz-3.10.1-cp310-cp310-manylinux_2_17_x86_64.manylinux2014_x86_64.whl.metadata (11 kB)\n",
            "Downloading jiwer-3.0.5-py3-none-any.whl (21 kB)\n",
            "Downloading rapidfuzz-3.10.1-cp310-cp310-manylinux_2_17_x86_64.manylinux2014_x86_64.whl (3.1 MB)\n",
            "\u001b[2K   \u001b[90m━━━━━━━━━━━━━━━━━━━━━━━━━━━━━━━━━━━━━━━━\u001b[0m \u001b[32m3.1/3.1 MB\u001b[0m \u001b[31m32.7 MB/s\u001b[0m eta \u001b[36m0:00:00\u001b[0m\n",
            "\u001b[?25hInstalling collected packages: rapidfuzz, jiwer\n",
            "Successfully installed jiwer-3.0.5 rapidfuzz-3.10.1\n",
            "Collecting language-tool-python\n",
            "  Downloading language_tool_python-2.8.1-py3-none-any.whl.metadata (12 kB)\n",
            "Collecting pyspellchecker\n",
            "  Downloading pyspellchecker-0.8.1-py3-none-any.whl.metadata (9.4 kB)\n",
            "Requirement already satisfied: pip in /usr/local/lib/python3.10/dist-packages (from language-tool-python) (24.1.2)\n",
            "Requirement already satisfied: requests in /usr/local/lib/python3.10/dist-packages (from language-tool-python) (2.32.3)\n",
            "Requirement already satisfied: tqdm in /usr/local/lib/python3.10/dist-packages (from language-tool-python) (4.66.6)\n",
            "Requirement already satisfied: wheel in /usr/local/lib/python3.10/dist-packages (from language-tool-python) (0.45.0)\n",
            "Requirement already satisfied: charset-normalizer<4,>=2 in /usr/local/lib/python3.10/dist-packages (from requests->language-tool-python) (3.4.0)\n",
            "Requirement already satisfied: idna<4,>=2.5 in /usr/local/lib/python3.10/dist-packages (from requests->language-tool-python) (3.10)\n",
            "Requirement already satisfied: urllib3<3,>=1.21.1 in /usr/local/lib/python3.10/dist-packages (from requests->language-tool-python) (2.2.3)\n",
            "Requirement already satisfied: certifi>=2017.4.17 in /usr/local/lib/python3.10/dist-packages (from requests->language-tool-python) (2024.8.30)\n",
            "Downloading language_tool_python-2.8.1-py3-none-any.whl (35 kB)\n",
            "Downloading pyspellchecker-0.8.1-py3-none-any.whl (6.8 MB)\n",
            "\u001b[2K   \u001b[90m━━━━━━━━━━━━━━━━━━━━━━━━━━━━━━━━━━━━━━━━\u001b[0m \u001b[32m6.8/6.8 MB\u001b[0m \u001b[31m57.7 MB/s\u001b[0m eta \u001b[36m0:00:00\u001b[0m\n",
            "\u001b[?25hInstalling collected packages: pyspellchecker, language-tool-python\n",
            "Successfully installed language-tool-python-2.8.1 pyspellchecker-0.8.1\n"
          ]
        }
      ]
    },
    {
      "cell_type": "markdown",
      "source": [
        "# Introduction to Libraries\n",
        "\n",
        "This notebook demonstrates a speech-to-text model implementation using Wav2Vec2 architecture.\n",
        "Below are the libraries used and their purposes:\n",
        "\n",
        "- **torchaudio**: For audio preprocessing and data manipulation.\n",
        "- **torch**: For building and training deep learning models.\n",
        "- **transformers**: Provides pre-trained models such as Wav2Vec2.\n",
        "- **jiwer**: For evaluating the model using Word Error Rate (WER).\n",
        "- **tqdm**: For creating progress bars during processing.\n",
        "\n",
        "### Installation Instructions\n",
        "The following libraries need to be installed before executing the notebook:\n",
        "```bash\n",
        "!pip install torchaudio transformers jiwer tqdm\n",
        "```\n"
      ],
      "metadata": {
        "id": "RGiNt4qcU-Mn"
      }
    },
    {
      "cell_type": "code",
      "source": [
        "import os\n",
        "import torchaudio\n",
        "import torch\n",
        "from torch.utils.data import Dataset, DataLoader\n",
        "from pathlib import Path\n",
        "from torch.optim import AdamW\n",
        "from tqdm import tqdm\n",
        "from transformers import Wav2Vec2ForCTC, Wav2Vec2Processor, Wav2Vec2FeatureExtractor, Wav2Vec2CTCTokenizer\n",
        "from torch.optim.lr_scheduler import StepLR\n",
        "from jiwer import wer, cer\n",
        "\n"
      ],
      "metadata": {
        "id": "ddIyP-45GXT_"
      },
      "execution_count": null,
      "outputs": []
    },
    {
      "cell_type": "markdown",
      "source": [
        "\n",
        "# Model Design and Implementation\n",
        "\n",
        "The model used in this project is **Wav2Vec2ForCTC**, a pretrained speech-to-text architecture from the Hugging Face Transformers library.\n",
        "It uses a feature extractor and tokenizer to convert raw audio into transcriptions.\n",
        "\n",
        "### Model Architecture\n",
        "- Input: Raw audio data (.wav format).\n",
        "- Processing: Extracts features using Wav2Vec2Processor and passes through a pretrained model.\n",
        "- Output: Tokenized text sequences, decoded into transcriptions.\n",
        "\n",
        "Below is the annotated code for the model initialization and a test case to verify its functionality."
      ],
      "metadata": {
        "id": "SK_q9Ef63iTI"
      }
    },
    {
      "cell_type": "code",
      "source": [
        "def convert_audio_and_extract_transcripts(root_dir):\n",
        "    for subdir, _, files in os.walk(root_dir):\n",
        "        transcript_file = None\n",
        "        for f in files:\n",
        "            if f.endswith('.trans.txt'):\n",
        "                transcript_file = f\n",
        "                break\n",
        "\n",
        "        if not transcript_file:\n",
        "            continue  # No transcript file found, skip this directory\n",
        "\n",
        "        # Load transcripts into a dictionary\n",
        "        transcript_path = os.path.join(subdir, transcript_file)\n",
        "        transcripts = {}\n",
        "        with open(transcript_path, 'r') as file:\n",
        "            for line in file:\n",
        "                parts = line.strip().split(maxsplit=1)\n",
        "                if len(parts) == 2:\n",
        "                    file_id, text = parts\n",
        "                    transcripts[file_id] = text\n",
        "\n",
        "        # Process each audio file\n",
        "        for file in files:\n",
        "            if file.endswith('.flac'):\n",
        "                # Define paths\n",
        "                audio_path = os.path.join(subdir, file)\n",
        "                wav_path = audio_path.replace('.flac', '.wav')\n",
        "                file_id = file.replace('.flac', '')\n",
        "                transcript_text = transcripts.get(file_id, \"\")\n",
        "\n",
        "                # Convert and save audio\n",
        "                waveform, sample_rate = torchaudio.load(audio_path)\n",
        "                if sample_rate != 16000:\n",
        "                    resampler = torchaudio.transforms.Resample(orig_freq=sample_rate, new_freq=16000)\n",
        "                    waveform = resampler(waveform)\n",
        "                torchaudio.save(wav_path, waveform, 16000)\n",
        "\n",
        "                # Save transcript\n",
        "                transcript_file_path = os.path.join(subdir, file_id + '.txt')\n",
        "                txt_file.write(transcript_text)\n",
        "\n",
        "                print(f\"Processed {wav_path} and saved transcript to {transcript_file_path}\")\n",
        "\n",
        "# Define the root directory of the dataset\n",
        "root_directory = \"/content/drive/MyDrive/Colab Notebooks/dev-clean\"\n",
        "convert_audio_and_extract_transcripts(root_directory)"
      ],
      "metadata": {
        "id": "uyHdNg-C1Fh1"
      },
      "execution_count": null,
      "outputs": []
    },
    {
      "cell_type": "markdown",
      "source": [
        "- This is Dataset class which converts raw audio and transcript into dataset format, with audio and its corresponding transcript."
      ],
      "metadata": {
        "id": "u53Ylt7C4FND"
      }
    },
    {
      "cell_type": "code",
      "execution_count": null,
      "metadata": {
        "id": "K2-kLxQNE633",
        "colab": {
          "base_uri": "https://localhost:8080/"
        },
        "outputId": "850f2fad-ca5f-4012-ef16-196cb50554c1"
      },
      "outputs": [
        {
          "output_type": "stream",
          "name": "stdout",
          "text": [
            "Loaded 2703 samples.\n"
          ]
        }
      ],
      "source": [
        "\n",
        "\n",
        "class LibriSpeechDataset(Dataset):\n",
        "    def __init__(self, root_dir, processor, text_tokenizer_name):\n",
        "        self.processor = processor\n",
        "        self.text_tokenizer = Wav2Vec2CTCTokenizer.from_pretrained(text_tokenizer_name)  # Add text tokenizer\n",
        "        self.samples = []\n",
        "        for subdir, dirs, files in os.walk(root_dir):\n",
        "            for file in files:\n",
        "                if file.endswith(\".wav\"):  # Check for .wav files\n",
        "                    audio_path = os.path.join(subdir, file)\n",
        "                    transcript_path = audio_path.replace('.wav', '.txt')  # Match .wav with .txt\n",
        "                    if os.path.exists(transcript_path):\n",
        "                        self.samples.append((audio_path, transcript_path))\n",
        "\n",
        "    def __len__(self):\n",
        "        return len(self.samples)\n",
        "\n",
        "    def __getitem__(self, idx):\n",
        "        audio_path, transcript_path = self.samples[idx]\n",
        "        waveform, sample_rate = torchaudio.load(audio_path)\n",
        "        waveform = waveform.squeeze()\n",
        "\n",
        "        # Process audio\n",
        "        input_values = self.processor(\n",
        "            waveform.numpy(),  # Ensure waveform is passed as a numpy array\n",
        "            sampling_rate=sample_rate,\n",
        "            return_tensors=\"pt\"\n",
        "        ).input_values\n",
        "\n",
        "        # Process text using the text tokenizer\n",
        "        with open(transcript_path, 'r') as f:\n",
        "            transcript = f.read().strip()\n",
        "        labels = self.text_tokenizer(\n",
        "            transcript,\n",
        "            return_tensors=\"pt\",\n",
        "            padding=True,\n",
        "            truncation=True\n",
        "        ).input_ids\n",
        "\n",
        "        return input_values, labels.squeeze()\n",
        "\n",
        "\n",
        "\n",
        "# Initialize processor\n",
        "processor = Wav2Vec2Processor.from_pretrained(\"facebook/wav2vec2-base-960h\")\n",
        "text_tokenizer_name = \"facebook/wav2vec2-base-960h\"\n",
        "# Create the dataset instance\n",
        "dataset = LibriSpeechDataset(\n",
        "    root_dir=\"/content/drive/MyDrive/Colab Notebooks/dev-clean\",\n",
        "    processor=processor,\n",
        "    text_tokenizer_name=text_tokenizer_name  # Provide the text tokenizer name\n",
        ")\n",
        "\n",
        "\n",
        "print(f\"Loaded {len(dataset)} samples.\")"
      ]
    },
    {
      "cell_type": "code",
      "source": [
        "\n",
        "# Load pre-trained model\n",
        "model = Wav2Vec2ForCTC.from_pretrained(\n",
        "    \"facebook/wav2vec2-base-960h\"\n",
        ")\n",
        "\n",
        "# Move model to GPU if available\n",
        "import torch\n",
        "device = torch.device(\"cuda\" if torch.cuda.is_available() else \"cpu\")\n",
        "model.to(device)"
      ],
      "metadata": {
        "colab": {
          "base_uri": "https://localhost:8080/",
          "height": 1000,
          "referenced_widgets": [
            "7edb907ec24f4ec3ac3ea2a5f9c8b420",
            "414ce432f4ee46c296e1b02bc0a71c40",
            "90ecd6bd240f4c0f8a433ac9d67d8f4f",
            "5d7f8857fe2c411583efee5fe3899fab",
            "8ff018fa63344ce184667171e1aa3cbe",
            "a7cd8fa8794d461894d792e2eb4e8c95",
            "db3cc1eea204425baeaaf8ef6870ad1d",
            "b9e697a523434d95872c5aaf9d1ef29f",
            "0aae512c025543b3a88119a9a5e13aae",
            "27ccaceefa0c43e9ba0b13175dc17cea",
            "6e38819ce3f04d5dbab7be49d87079d6",
            "9dc2a0775f1040469381d7faa647a298",
            "b6bacc62b2ea4568859a1492a0af67ac",
            "be7d7f17b0a042c38ac332537054ac71",
            "120d65d64d534d70b930a0fd34349377",
            "da8e919357d4402fb60cc76dea67f5b9",
            "74ce866526f44d96952be7110fb310fe",
            "913b1f4cfb6b4aea9b8278e4f9eb49ae",
            "a597a8faf65c4b699d724f2f7ad67a31",
            "362b733f439f48d59e7c5c6574fee521",
            "71535d6f948b41d287d0614cab76ec1d",
            "0f0ce32825f341a1881eebb1f3c93feb"
          ]
        },
        "id": "UKMa-JObHYJr",
        "outputId": "e15a3ebd-b88a-474a-cf63-c9c90aff435f"
      },
      "execution_count": null,
      "outputs": [
        {
          "output_type": "stream",
          "name": "stderr",
          "text": [
            "/usr/local/lib/python3.10/dist-packages/huggingface_hub/utils/_auth.py:94: UserWarning: \n",
            "The secret `HF_TOKEN` does not exist in your Colab secrets.\n",
            "To authenticate with the Hugging Face Hub, create a token in your settings tab (https://huggingface.co/settings/tokens), set it as secret in your Google Colab and restart your session.\n",
            "You will be able to reuse this secret in all of your notebooks.\n",
            "Please note that authentication is recommended but still optional to access public models or datasets.\n",
            "  warnings.warn(\n"
          ]
        },
        {
          "output_type": "display_data",
          "data": {
            "text/plain": [
              "config.json:   0%|          | 0.00/1.60k [00:00<?, ?B/s]"
            ],
            "application/vnd.jupyter.widget-view+json": {
              "version_major": 2,
              "version_minor": 0,
              "model_id": "7edb907ec24f4ec3ac3ea2a5f9c8b420"
            }
          },
          "metadata": {}
        },
        {
          "output_type": "display_data",
          "data": {
            "text/plain": [
              "model.safetensors:   0%|          | 0.00/378M [00:00<?, ?B/s]"
            ],
            "application/vnd.jupyter.widget-view+json": {
              "version_major": 2,
              "version_minor": 0,
              "model_id": "9dc2a0775f1040469381d7faa647a298"
            }
          },
          "metadata": {}
        },
        {
          "output_type": "stream",
          "name": "stderr",
          "text": [
            "Some weights of Wav2Vec2ForCTC were not initialized from the model checkpoint at facebook/wav2vec2-base-960h and are newly initialized: ['wav2vec2.masked_spec_embed']\n",
            "You should probably TRAIN this model on a down-stream task to be able to use it for predictions and inference.\n"
          ]
        },
        {
          "output_type": "execute_result",
          "data": {
            "text/plain": [
              "Wav2Vec2ForCTC(\n",
              "  (wav2vec2): Wav2Vec2Model(\n",
              "    (feature_extractor): Wav2Vec2FeatureEncoder(\n",
              "      (conv_layers): ModuleList(\n",
              "        (0): Wav2Vec2GroupNormConvLayer(\n",
              "          (conv): Conv1d(1, 512, kernel_size=(10,), stride=(5,), bias=False)\n",
              "          (activation): GELUActivation()\n",
              "          (layer_norm): GroupNorm(512, 512, eps=1e-05, affine=True)\n",
              "        )\n",
              "        (1-4): 4 x Wav2Vec2NoLayerNormConvLayer(\n",
              "          (conv): Conv1d(512, 512, kernel_size=(3,), stride=(2,), bias=False)\n",
              "          (activation): GELUActivation()\n",
              "        )\n",
              "        (5-6): 2 x Wav2Vec2NoLayerNormConvLayer(\n",
              "          (conv): Conv1d(512, 512, kernel_size=(2,), stride=(2,), bias=False)\n",
              "          (activation): GELUActivation()\n",
              "        )\n",
              "      )\n",
              "    )\n",
              "    (feature_projection): Wav2Vec2FeatureProjection(\n",
              "      (layer_norm): LayerNorm((512,), eps=1e-05, elementwise_affine=True)\n",
              "      (projection): Linear(in_features=512, out_features=768, bias=True)\n",
              "      (dropout): Dropout(p=0.1, inplace=False)\n",
              "    )\n",
              "    (encoder): Wav2Vec2Encoder(\n",
              "      (pos_conv_embed): Wav2Vec2PositionalConvEmbedding(\n",
              "        (conv): ParametrizedConv1d(\n",
              "          768, 768, kernel_size=(128,), stride=(1,), padding=(64,), groups=16\n",
              "          (parametrizations): ModuleDict(\n",
              "            (weight): ParametrizationList(\n",
              "              (0): _WeightNorm()\n",
              "            )\n",
              "          )\n",
              "        )\n",
              "        (padding): Wav2Vec2SamePadLayer()\n",
              "        (activation): GELUActivation()\n",
              "      )\n",
              "      (layer_norm): LayerNorm((768,), eps=1e-05, elementwise_affine=True)\n",
              "      (dropout): Dropout(p=0.1, inplace=False)\n",
              "      (layers): ModuleList(\n",
              "        (0-11): 12 x Wav2Vec2EncoderLayer(\n",
              "          (attention): Wav2Vec2SdpaAttention(\n",
              "            (k_proj): Linear(in_features=768, out_features=768, bias=True)\n",
              "            (v_proj): Linear(in_features=768, out_features=768, bias=True)\n",
              "            (q_proj): Linear(in_features=768, out_features=768, bias=True)\n",
              "            (out_proj): Linear(in_features=768, out_features=768, bias=True)\n",
              "          )\n",
              "          (dropout): Dropout(p=0.1, inplace=False)\n",
              "          (layer_norm): LayerNorm((768,), eps=1e-05, elementwise_affine=True)\n",
              "          (feed_forward): Wav2Vec2FeedForward(\n",
              "            (intermediate_dropout): Dropout(p=0.1, inplace=False)\n",
              "            (intermediate_dense): Linear(in_features=768, out_features=3072, bias=True)\n",
              "            (intermediate_act_fn): GELUActivation()\n",
              "            (output_dense): Linear(in_features=3072, out_features=768, bias=True)\n",
              "            (output_dropout): Dropout(p=0.1, inplace=False)\n",
              "          )\n",
              "          (final_layer_norm): LayerNorm((768,), eps=1e-05, elementwise_affine=True)\n",
              "        )\n",
              "      )\n",
              "    )\n",
              "  )\n",
              "  (dropout): Dropout(p=0.1, inplace=False)\n",
              "  (lm_head): Linear(in_features=768, out_features=32, bias=True)\n",
              ")"
            ]
          },
          "metadata": {},
          "execution_count": 4
        }
      ]
    },
    {
      "cell_type": "code",
      "source": [
        "processor = Wav2Vec2Processor.from_pretrained(\"facebook/wav2vec2-base-960h\")\n",
        "text_tokenizer_name = \"facebook/wav2vec2-base-960h\"\n"
      ],
      "metadata": {
        "id": "2wyT4idPEqH9",
        "colab": {
          "base_uri": "https://localhost:8080/",
          "height": 145,
          "referenced_widgets": [
            "2a3a02fbe01748fbb10f23251fa6da08",
            "313045713c9940298f1d2ee4d7640323",
            "c02dcb3f22c94b41b3fbabf6ede8bf40",
            "635180da076e4a8f8aa5eda892d6fd1c",
            "472554b2441845c6b55112d1a8033fa7",
            "dbd4be3e707f40c386e00bcb9ee777fb",
            "041324f7fd0647d9bbd1ab4944331969",
            "8db95fefc0b949119f2ba980a86e0298",
            "e546ab32f9a943ad9d828754b7abf74a",
            "7413d4d921444266bc515ea521cba1f4",
            "436bc947e23c4059aae747044a12e937",
            "9f1f2f72fa0743a488325f71c99cbf99",
            "31f24c536130435784e53589a9d70f03",
            "2568c22015cc4bd9bdaf562574f5f235",
            "9ad467a11cbb497da8cdf020402a7b13",
            "c211067de6334626a8cceebe59cb9564",
            "0e5b069e995f4005b5d167e6c260d6e4",
            "eb381a75d6e4400cb61ec94022d2d44d",
            "bc2788c7b6ed4a1e8c2af53e8a09c68f",
            "e893aa0d1a004ff5a9299bebaeef5d55",
            "635944c658254dd2a7afa8f9b1476901",
            "a10e1cf8226940a2973368ce21e75128",
            "ac8bfa378d894dbaa3b9eed196c248b4",
            "1a79f3dc015e4ccdab342074d07b3764",
            "9a68a6fdce894b708291886d2be322c5",
            "1e16fc724d4c4542bcc6a53eaf38f971",
            "6289394d55cc4019a5ed6bc38bb75de8",
            "052649d55fae4fa6b5d4c283b0ad184d",
            "53ea90e502f1411bbb6d32f334f1ba65",
            "02b9997997614d69b978dbc14d4650ea",
            "42a2e529bf23458799735095708f1ee8",
            "485fddec006a44e38a96bc1c3a4e1cc9",
            "25c9f5cf755f42e7ac3f187ae8063061",
            "2a0ce9860d0841fda2d46989da402c36",
            "e6a125b0dc7a41028fb7820795d3c96f",
            "55c12708c6404265a76b160fe36cb9e8",
            "028bc3e0964644b190cca3abfc8a15f2",
            "dc95b29d89264e48a2e7fda79589a0f2",
            "4fa13da0e4f9459ca13ab14633b1ba01",
            "05a382b2ce0a480c85df9ccf38090116",
            "1459b785e93a4c4196c9316364a9c938",
            "27c923e659844179a6a2c9e7bbcaeea1",
            "4f5b41ab1b18461b8993f9cab9fb037a",
            "a5016202d7d34343ba37807fa765bda2"
          ]
        },
        "outputId": "7e42bf4f-0707-4137-84d8-ce844af567c6"
      },
      "execution_count": null,
      "outputs": [
        {
          "output_type": "display_data",
          "data": {
            "text/plain": [
              "preprocessor_config.json:   0%|          | 0.00/159 [00:00<?, ?B/s]"
            ],
            "application/vnd.jupyter.widget-view+json": {
              "version_major": 2,
              "version_minor": 0,
              "model_id": "2a3a02fbe01748fbb10f23251fa6da08"
            }
          },
          "metadata": {}
        },
        {
          "output_type": "display_data",
          "data": {
            "text/plain": [
              "tokenizer_config.json:   0%|          | 0.00/163 [00:00<?, ?B/s]"
            ],
            "application/vnd.jupyter.widget-view+json": {
              "version_major": 2,
              "version_minor": 0,
              "model_id": "9f1f2f72fa0743a488325f71c99cbf99"
            }
          },
          "metadata": {}
        },
        {
          "output_type": "display_data",
          "data": {
            "text/plain": [
              "vocab.json:   0%|          | 0.00/291 [00:00<?, ?B/s]"
            ],
            "application/vnd.jupyter.widget-view+json": {
              "version_major": 2,
              "version_minor": 0,
              "model_id": "ac8bfa378d894dbaa3b9eed196c248b4"
            }
          },
          "metadata": {}
        },
        {
          "output_type": "display_data",
          "data": {
            "text/plain": [
              "special_tokens_map.json:   0%|          | 0.00/85.0 [00:00<?, ?B/s]"
            ],
            "application/vnd.jupyter.widget-view+json": {
              "version_major": 2,
              "version_minor": 0,
              "model_id": "2a0ce9860d0841fda2d46989da402c36"
            }
          },
          "metadata": {}
        }
      ]
    },
    {
      "cell_type": "markdown",
      "source": [
        "# Dataset validation\n",
        "- This code makes sure that the dataset is ready to be fed into the pre-trained model through DataLoader.\n"
      ],
      "metadata": {
        "id": "LlwfPUis1bQH"
      }
    },
    {
      "cell_type": "code",
      "source": [],
      "metadata": {
        "id": "UZ7MlWXD42DI"
      },
      "execution_count": null,
      "outputs": []
    },
    {
      "cell_type": "code",
      "source": [
        "\n",
        "import matplotlib.pyplot as plt\n",
        "from transformers import AutoTokenizer\n",
        "\n",
        "# Dataset validation function\n",
        "def validate_dataset(dataset):\n",
        "    print(f\"Number of samples: {len(dataset)}\\n\")\n",
        "\n",
        "    # Check the first few samples\n",
        "    for i in range(3):\n",
        "        try:\n",
        "            input_values, labels = dataset[i]\n",
        "            print(f\"Sample {i+1}:\")\n",
        "            print(f\"Audio Path: {dataset.samples[i][0]}\")\n",
        "            print(f\"Transcript Path: {dataset.samples[i][1]}\")\n",
        "            print(f\"Input Values Shape: {input_values.shape}\")  # Audio input shape\n",
        "            print(f\"Labels Shape: {labels.shape}\")  # Tokenized transcript shape\n",
        "            print()\n",
        "        except Exception as e:\n",
        "            print(f\"Error in sample {i+1}: {e}\")\n",
        "\n",
        "    # Check all transcripts and audio matches\n",
        "    unmatched_samples = []\n",
        "    for audio_path, transcript_path in dataset.samples:\n",
        "        if not os.path.exists(audio_path) or not os.path.exists(transcript_path):\n",
        "            unmatched_samples.append((audio_path, transcript_path))\n",
        "\n",
        "    if unmatched_samples:\n",
        "        print(f\"\\nUnmatched samples: {len(unmatched_samples)}\")\n",
        "        for audio, transcript in unmatched_samples[:5]:  # Show first 5 unmatched\n",
        "            print(f\"Missing pair: Audio - {audio}, Transcript - {transcript}\")\n",
        "    else:\n",
        "        print(\"All audio and transcript pairs are matched.\")\n",
        "\n",
        "\n",
        "    test_audio, _ = dataset.samples[0]\n",
        "    waveform, sample_rate = torchaudio.load(test_audio)\n",
        "    print(\"\\nTesting audio processing...\")\n",
        "    input_values = dataset.processor(\n",
        "        waveform.squeeze().numpy(),\n",
        "        sampling_rate=sample_rate,\n",
        "        return_tensors=\"pt\"\n",
        "    ).input_values\n",
        "    print(f\"Audio processed: Shape {input_values.shape}\")\n",
        "\n",
        "    test_transcript, _ = dataset.samples[0]\n",
        "    with open(test_transcript.replace(\".wav\", \".txt\"), \"r\") as f:\n",
        "        transcript = f.read().strip()\n",
        "    print(\"Testing text processing...\")\n",
        "    labels = dataset.text_tokenizer(\n",
        "        transcript,\n",
        "        return_tensors=\"pt\",\n",
        "        padding=True,\n",
        "        truncation=True\n",
        "    ).input_ids\n",
        "    print(f\"Transcript tokenized: Shape {labels.shape}\")\n",
        "\n",
        "    # Plot a waveform\n",
        "    print(\"\\nVisualizing the first audio waveform...\")\n",
        "    plt.figure(figsize=(10, 4))\n",
        "    plt.plot(waveform.squeeze().numpy())\n",
        "    plt.title(\"Waveform of the First Audio Sample\")\n",
        "    plt.xlabel(\"Time\")\n",
        "    plt.ylabel(\"Amplitude\")\n",
        "    plt.show()\n",
        "\n",
        "# Initialize processor and tokenizer\n",
        "processor = Wav2Vec2Processor.from_pretrained(\"facebook/wav2vec2-base-960h\")\n",
        "text_tokenizer_name =  \"facebook/wav2vec2-base-960h\"\n",
        "dataset = LibriSpeechDataset(\n",
        "    root_dir=\"/content/drive/MyDrive/Colab Notebooks/dev-clean\",\n",
        "    processor=processor,\n",
        "    text_tokenizer_name=text_tokenizer_name\n",
        ")\n",
        "\n",
        "# Validate the dataset\n",
        "validate_dataset(dataset)\n"
      ],
      "metadata": {
        "colab": {
          "base_uri": "https://localhost:8080/",
          "height": 957
        },
        "id": "wu3hX_t9G75x",
        "outputId": "f6cde3ce-48a5-41c6-fd57-0e4b82e3647d"
      },
      "execution_count": null,
      "outputs": [
        {
          "output_type": "stream",
          "name": "stdout",
          "text": [
            "Number of samples: 2703\n",
            "\n"
          ]
        },
        {
          "output_type": "stream",
          "name": "stderr",
          "text": [
            "Asking to truncate to max_length but no maximum length is provided and the model has no predefined maximum length. Default to no truncation.\n"
          ]
        },
        {
          "output_type": "stream",
          "name": "stdout",
          "text": [
            "Sample 1:\n",
            "Audio Path: /content/drive/MyDrive/Colab Notebooks/dev-clean/6345/93302/6345-93302-0026.wav\n",
            "Transcript Path: /content/drive/MyDrive/Colab Notebooks/dev-clean/6345/93302/6345-93302-0026.txt\n",
            "Input Values Shape: torch.Size([1, 83040])\n",
            "Labels Shape: torch.Size([94])\n",
            "\n",
            "Sample 2:\n",
            "Audio Path: /content/drive/MyDrive/Colab Notebooks/dev-clean/6345/93302/6345-93302-0022.wav\n",
            "Transcript Path: /content/drive/MyDrive/Colab Notebooks/dev-clean/6345/93302/6345-93302-0022.txt\n",
            "Input Values Shape: torch.Size([1, 41120])\n",
            "Labels Shape: torch.Size([35])\n",
            "\n",
            "Sample 3:\n",
            "Audio Path: /content/drive/MyDrive/Colab Notebooks/dev-clean/6345/93302/6345-93302-0009.wav\n",
            "Transcript Path: /content/drive/MyDrive/Colab Notebooks/dev-clean/6345/93302/6345-93302-0009.txt\n",
            "Input Values Shape: torch.Size([1, 98000])\n",
            "Labels Shape: torch.Size([132])\n",
            "\n",
            "All audio and transcript pairs are matched.\n",
            "\n",
            "Testing audio processing...\n",
            "Audio processed: Shape torch.Size([1, 83040])\n",
            "Testing text processing...\n",
            "Transcript tokenized: Shape torch.Size([1, 94])\n",
            "\n",
            "Visualizing the first audio waveform...\n"
          ]
        },
        {
          "output_type": "display_data",
          "data": {
            "text/plain": [
              "<Figure size 1000x400 with 1 Axes>"
            ],
            "image/png": "[encoded data removed]"
          },
          "metadata": {}
        }
      ]
    },
    {
      "cell_type": "markdown",
      "source": [
        "- This function pads the batch of input data to when the batch is used for training."
      ],
      "metadata": {
        "id": "roLmnZQ72AAY"
      }
    },
    {
      "cell_type": "code",
      "source": [
        "def collate_fn(batch):\n",
        "    input_values = [item[0].squeeze(0) for item in batch]  # Remove batch dimension from input\n",
        "    labels = [item[1] for item in batch]\n",
        "\n",
        "    # Pad input_values to the maximum length in the batch\n",
        "    input_values_padded = torch.nn.utils.rnn.pad_sequence(input_values, batch_first=True, padding_value=0)\n",
        "\n",
        "    # Pad labels to the maximum length in the batch\n",
        "    labels_padded = torch.nn.utils.rnn.pad_sequence(labels, batch_first=True, padding_value=-100)  # Use -100 for ignored tokens\n",
        "\n",
        "    return input_values_padded, labels_padded"
      ],
      "metadata": {
        "id": "0KdTnUSQIACU"
      },
      "execution_count": null,
      "outputs": []
    },
    {
      "cell_type": "code",
      "source": [],
      "metadata": {
        "id": "5ozPOtbO2k6c"
      },
      "execution_count": null,
      "outputs": []
    },
    {
      "cell_type": "markdown",
      "source": [
        "# Optimizer and Scheduler:\n",
        "-  Configures the AdamW optimizer with a learning rate of 1e-4 and a StepLR scheduler to decay the learning rate by 5% every epoch for better convergence.\n",
        "\n",
        "# Loss Function and DataLoader:\n",
        "- Uses the CTC loss function for sequence alignment, and initializes a DataLoader with a batch size of 16 to shuffle and batch the dataset, ensuring padding via collate_fn."
      ],
      "metadata": {
        "id": "2np7xJ7v2rXQ"
      }
    },
    {
      "cell_type": "code",
      "source": [
        "\n",
        "# Set up the optimizer\n",
        "optimizer = AdamW(model.parameters(), lr=1e-4)\n",
        "\n",
        "# Specify the loss function\n",
        "loss_fn = torch.nn.CTCLoss(blank=processor.tokenizer.pad_token_id, zero_infinity=True)\n",
        "scheduler = StepLR(optimizer, step_size=1, gamma=0.95)  # Decay learning rate every epoch\n",
        "batch_size = 16  # Adjust based on GPU memory\n",
        "data_loader = DataLoader(dataset, batch_size=16, shuffle=True, collate_fn=collate_fn)\n"
      ],
      "metadata": {
        "id": "28zb_OIrIA-4"
      },
      "execution_count": null,
      "outputs": []
    },
    {
      "cell_type": "markdown",
      "source": [
        "- This training loop runs for 8 epochs, performing forward and backward passes on batches of data to optimize the model using CTC loss, updates weights with AdamW, adjusts the learning rate using a scheduler, and logs the average loss per epoch."
      ],
      "metadata": {
        "id": "ggFxiNFa29Gi"
      }
    },
    {
      "cell_type": "code",
      "source": [
        "# Training loop\n",
        "epochs = 8  # Number of epochs\n",
        "model.train()\n",
        "\n",
        "for epoch in range(epochs):\n",
        "    total_loss = 0\n",
        "    for batch in data_loader:\n",
        "        # Unpack batch\n",
        "        input_values, labels = batch\n",
        "        input_values, labels = input_values.to(device), labels.to(device)\n",
        "\n",
        "        # Forward pass\n",
        "        outputs = model(input_values, labels=labels)\n",
        "        loss = outputs.loss\n",
        "\n",
        "        # Backward pass\n",
        "        optimizer.zero_grad()\n",
        "        loss.backward()\n",
        "        optimizer.step()\n",
        "\n",
        "        total_loss += loss.item()\n",
        "\n",
        "    # Step scheduler\n",
        "    scheduler.step()\n",
        "\n",
        "    print(f\"Epoch {epoch + 1}/{epochs}, Loss: {total_loss / len(data_loader):.4f}\")\n"
      ],
      "metadata": {
        "id": "cHgebEQOIC7T",
        "colab": {
          "base_uri": "https://localhost:8080/"
        },
        "outputId": "8f8da221-bdbc-43f3-893a-2475294fbeb9"
      },
      "execution_count": null,
      "outputs": [
        {
          "output_type": "stream",
          "name": "stdout",
          "text": [
            "Epoch 1/8, Loss: 304.8034\n",
            "Epoch 2/8, Loss: 178.3894\n",
            "Epoch 3/8, Loss: 168.8464\n",
            "Epoch 4/8, Loss: 170.7791\n",
            "Epoch 5/8, Loss: 138.7332\n",
            "Epoch 6/8, Loss: 167.9188\n",
            "Epoch 7/8, Loss: 134.2635\n",
            "Epoch 8/8, Loss: 114.4739\n"
          ]
        }
      ]
    },
    {
      "cell_type": "markdown",
      "source": [
        "# Saving the model\n",
        "- The model that was fine-tuned and the processor, which was used both were saved in the folder which the path points out."
      ],
      "metadata": {
        "id": "mglIVUpM4-s9"
      }
    },
    {
      "cell_type": "code",
      "source": [
        "# Save model and processor\n",
        "model.save_pretrained(\"/content/drive/MyDrive/Colab Notebooks/fine_tuned_wav2vec2\")\n",
        "processor.save_pretrained(\"/content/drive/MyDrive/Colab Notebooks/fine_tuned_wav2vec2_processor\")\n",
        "\n",
        "print(\"Model and processor saved successfully!\")\n"
      ],
      "metadata": {
        "id": "0BAL8Ws9zHOe",
        "colab": {
          "base_uri": "https://localhost:8080/"
        },
        "outputId": "9d008a7a-c341-4cd0-d8f8-71e9d2fae513"
      },
      "execution_count": null,
      "outputs": [
        {
          "output_type": "stream",
          "name": "stdout",
          "text": [
            "Model and processor saved successfully!\n"
          ]
        }
      ]
    },
    {
      "cell_type": "markdown",
      "source": [
        "- The model is again called to generate the text description of the test audio."
      ],
      "metadata": {
        "id": "u4wxuZE95c7g"
      }
    },
    {
      "cell_type": "code",
      "source": [
        "from transformers import Wav2Vec2ForCTC, Wav2Vec2Processor\n",
        "\n",
        "# Replace with the paths where your fine-tuned model and processor are saved\n",
        "model_path = \"/content/drive/MyDrive/Colab Notebooks/fine_tuned_wav2vec2\"\n",
        "processor_path = \"/content/drive/MyDrive/Colab Notebooks/fine_tuned_wav2vec2_processor\"\n",
        "\n",
        "# Load the model and processor\n",
        "model_1 = Wav2Vec2ForCTC.from_pretrained(model_path)\n",
        "processor_1 = Wav2Vec2Processor.from_pretrained(processor_path)\n",
        "\n",
        "print(\"Fine-tuned model and processor loaded successfully!\")\n"
      ],
      "metadata": {
        "colab": {
          "base_uri": "https://localhost:8080/"
        },
        "id": "G7WIr9K0C7U6",
        "outputId": "979f00da-ba7b-4fd5-e9e4-32010fada141"
      },
      "execution_count": null,
      "outputs": [
        {
          "output_type": "stream",
          "name": "stdout",
          "text": [
            "Fine-tuned model and processor loaded successfully!\n"
          ]
        }
      ]
    },
    {
      "cell_type": "code",
      "source": [
        "from torch.utils.data import random_split\n",
        "\n",
        "# Assuming `dataset` is your existing PyTorch Dataset\n",
        "dataset_size = len(dataset)\n",
        "val_size = int(0.2 * dataset_size)  # 20% for validation\n",
        "train_size = dataset_size - val_size\n",
        "\n",
        "# Split the dataset\n",
        "train_dataset, val_dataset = random_split(dataset, [train_size, val_size])\n"
      ],
      "metadata": {
        "id": "kyDjAQJp1t2J"
      },
      "execution_count": null,
      "outputs": []
    },
    {
      "cell_type": "code",
      "source": [
        "from torch.utils.data import DataLoader\n",
        "\n",
        "# Training DataLoader\n",
        "train_loader = DataLoader(train_dataset, batch_size=16, shuffle=True, collate_fn=collate_fn)\n",
        "\n",
        "# Validation DataLoader\n",
        "val_loader = DataLoader(val_dataset, batch_size=16, shuffle=False, collate_fn=collate_fn)\n"
      ],
      "metadata": {
        "id": "--joWmlP1wIj"
      },
      "execution_count": null,
      "outputs": []
    },
    {
      "cell_type": "code",
      "source": [
        "print(f\"Training set size: {len(train_dataset)}\")\n",
        "print(f\"Validation set size: {len(val_dataset)}\")\n"
      ],
      "metadata": {
        "id": "t1WdSsG711jS",
        "colab": {
          "base_uri": "https://localhost:8080/"
        },
        "outputId": "f0a57a8a-7450-4bb9-cbb4-ea47df3d7637"
      },
      "execution_count": null,
      "outputs": [
        {
          "output_type": "stream",
          "name": "stdout",
          "text": [
            "Training set size: 2163\n",
            "Validation set size: 540\n"
          ]
        }
      ]
    },
    {
      "cell_type": "code",
      "source": [
        "from jiwer import wer, cer\n",
        "\n",
        "def evaluate_model(model, processor, data_loader, device):\n",
        "    model.eval()  # Set model to evaluation mode\n",
        "    all_predictions = []\n",
        "    all_references = []\n",
        "\n",
        "    with torch.no_grad():\n",
        "        for batch in data_loader:\n",
        "            input_values, labels = batch\n",
        "            input_values = input_values.to(device)\n",
        "            labels = labels.to(device)\n",
        "\n",
        "            # Get logits from the model\n",
        "            logits = model(input_values).logits\n",
        "            predicted_ids = torch.argmax(logits, dim=-1)\n",
        "\n",
        "            # Decode predictions\n",
        "            predictions = processor.batch_decode(predicted_ids, skip_special_tokens=True)\n",
        "\n",
        "            # Decode references\n",
        "            references = processor.batch_decode(labels, group_tokens=False)\n",
        "\n",
        "            all_predictions.extend(predictions)\n",
        "            all_references.extend(references)\n",
        "\n",
        "    # Compute WER and CER\n",
        "    word_error_rate = wer(all_references, all_predictions)\n",
        "    character_error_rate = cer(all_references, all_predictions)\n",
        "\n",
        "    return word_error_rate, character_error_rate, all_predictions, all_references\n"
      ],
      "metadata": {
        "id": "1l5QZ71BzSBP"
      },
      "execution_count": null,
      "outputs": []
    },
    {
      "cell_type": "code",
      "source": [
        "wer_score, cer_score, all_predictions, all_references = evaluate_model(model_1, processor_1, val_loader, device)\n"
      ],
      "metadata": {
        "id": "DXCHafoN9SfS"
      },
      "execution_count": null,
      "outputs": []
    },
    {
      "cell_type": "code",
      "source": [
        "def clean_text(text):\n",
        "    # Remove <unk> tokens\n",
        "    text = text.replace(\"<unk>\", \"\")\n",
        "    # Remove extra spaces\n",
        "    text = \" \".join(text.split())\n",
        "    return text\n"
      ],
      "metadata": {
        "id": "At0ZVN4T3wf-"
      },
      "execution_count": null,
      "outputs": []
    },
    {
      "cell_type": "code",
      "source": [
        "cleaned_references = [clean_text(ref) for ref in all_references]\n",
        "cleaned_predictions = [clean_text(pred) for pred in all_predictions]\n",
        "\n"
      ],
      "metadata": {
        "id": "zPQ31kgT3xMs"
      },
      "execution_count": null,
      "outputs": []
    },
    {
      "cell_type": "code",
      "source": [],
      "metadata": {
        "id": "5AJVFNwH38Td"
      },
      "execution_count": null,
      "outputs": []
    },
    {
      "cell_type": "code",
      "source": [
        "import re\n",
        "\n",
        "def normalize_text(text):\n",
        "    # Convert to lowercase\n",
        "    text = text.lower()\n",
        "    # Remove punctuation\n",
        "    text = re.sub(r\"[^\\w\\s]\", \"\", text)\n",
        "    # Remove extra spaces\n",
        "    text = \" \".join(text.split())\n",
        "    return text\n",
        "\n",
        "normalized_references = [normalize_text(ref) for ref in cleaned_references]\n",
        "normalized_predictions = [normalize_text(pred) for pred in cleaned_predictions]\n"
      ],
      "metadata": {
        "id": "eblcKcaq3z5f"
      },
      "execution_count": null,
      "outputs": []
    },
    {
      "cell_type": "code",
      "source": [
        "\n",
        "# Recalculate metrics\n",
        "word_error_rate = wer(normalized_references, normalized_predictions)\n",
        "character_error_rate = cer(normalized_references, normalized_predictions\n",
        "                           )\n",
        "\n",
        "print(f\"Normalized Word Error Rate (WER): {word_error_rate:.2%}\")\n",
        "print(f\"Normalized Character Error Rate (CER): {character_error_rate:.2%}\")\n"
      ],
      "metadata": {
        "id": "3Ks8Zkfo33sW",
        "colab": {
          "base_uri": "https://localhost:8080/"
        },
        "outputId": "7dca430b-e19c-4d47-e56b-f47e1e2ab685"
      },
      "execution_count": null,
      "outputs": [
        {
          "output_type": "stream",
          "name": "stdout",
          "text": [
            "Normalized Word Error Rate (WER): 13.13%\n",
            "Normalized Character Error Rate (CER): 3.05%\n"
          ]
        }
      ]
    },
    {
      "cell_type": "code",
      "source": [],
      "metadata": {
        "id": "_IUnED1xQ5-2"
      },
      "execution_count": null,
      "outputs": []
    },
    {
      "cell_type": "code",
      "source": [],
      "metadata": {
        "id": "wrPEENMkQ50j"
      },
      "execution_count": null,
      "outputs": []
    },
    {
      "cell_type": "code",
      "source": [
        "import torchaudio\n",
        "\n",
        "def load_audio(audio_path):\n",
        "    # Load the audio file\n",
        "    waveform, sample_rate = torchaudio.load(audio_path)\n",
        "\n",
        "    # Resample if the audio is not 16kHz\n",
        "    if sample_rate != 16000:\n",
        "        resampler = torchaudio.transforms.Resample(orig_freq=sample_rate, new_freq=16000)\n",
        "        waveform = resampler(waveform)\n",
        "\n",
        "    return waveform.squeeze().numpy()  # Return as a NumPy array\n"
      ],
      "metadata": {
        "id": "1CeZ5ivpDIQA"
      },
      "execution_count": null,
      "outputs": []
    },
    {
      "cell_type": "code",
      "source": [
        "import torch\n",
        "\n",
        "def transcribe_audio(audio_path, model, processor):\n",
        "    # Determine the device\n",
        "    device = torch.device(\"cuda\" if torch.cuda.is_available() else \"cpu\")\n",
        "\n",
        "    # Load and preprocess the audio\n",
        "    audio = load_audio(audio_path)\n",
        "\n",
        "    # Process the audio input\n",
        "    inputs = processor(audio, sampling_rate=16000, return_tensors=\"pt\", padding=True)\n",
        "    inputs[\"input_values\"] = inputs[\"input_values\"].to(device)  # Move input_values to the same device as the model\n",
        "\n",
        "    # Move model to the device\n",
        "    model = model.to(device)\n",
        "\n",
        "    # Predict\n",
        "    with torch.no_grad():\n",
        "        logits = model(inputs[\"input_values\"]).logits  # Access input_values explicitly\n",
        "\n",
        "    # Decode the predictions\n",
        "    predicted_ids = torch.argmax(logits, dim=-1)\n",
        "    transcription = processor.batch_decode(predicted_ids, skip_special_tokens=True)[0]\n",
        "\n",
        "    return transcription\n"
      ],
      "metadata": {
        "id": "U-YeEPMEDZ4p"
      },
      "execution_count": null,
      "outputs": []
    },
    {
      "cell_type": "code",
      "source": [
        "audio_path = \"/content/drive/MyDrive/Colab Notebooks/twin-peaks-fire-walk-with-me.wav\"  # Replace with your actual audio file path\n",
        "transcription = transcribe_audio(audio_path, model_1, processor_1)\n",
        "print(\"Transcription:\", transcription)\n"
      ],
      "metadata": {
        "colab": {
          "base_uri": "https://localhost:8080/"
        },
        "id": "TMlISZADDgCV",
        "outputId": "c21f17e6-16c6-460a-9bcd-b57dad51dd86"
      },
      "execution_count": null,
      "outputs": [
        {
          "output_type": "stream",
          "name": "stdout",
          "text": [
            "Transcription: THROUGH THE DARKNES OF FUTURE PAST THE MAGICIAN LONGS TO SEONE CHANCE A BETWEN TWO WORKSFIREWALK WITH ME\n"
          ]
        }
      ]
    },
    {
      "cell_type": "code",
      "source": [
        "!pip install torch transformers nltk\n"
      ],
      "metadata": {
        "colab": {
          "base_uri": "https://localhost:8080/"
        },
        "id": "5sXjbvB_JA7P",
        "outputId": "2f1f4c26-28d8-4308-bad5-45428c65016f"
      },
      "execution_count": null,
      "outputs": [
        {
          "output_type": "stream",
          "name": "stdout",
          "text": [
            "Requirement already satisfied: torch in /usr/local/lib/python3.10/dist-packages (2.5.1+cu121)\n",
            "Requirement already satisfied: transformers in /usr/local/lib/python3.10/dist-packages (4.46.2)\n",
            "Requirement already satisfied: nltk in /usr/local/lib/python3.10/dist-packages (3.9.1)\n",
            "Requirement already satisfied: filelock in /usr/local/lib/python3.10/dist-packages (from torch) (3.16.1)\n",
            "Requirement already satisfied: typing-extensions>=4.8.0 in /usr/local/lib/python3.10/dist-packages (from torch) (4.12.2)\n",
            "Requirement already satisfied: networkx in /usr/local/lib/python3.10/dist-packages (from torch) (3.4.2)\n",
            "Requirement already satisfied: jinja2 in /usr/local/lib/python3.10/dist-packages (from torch) (3.1.4)\n",
            "Requirement already satisfied: fsspec in /usr/local/lib/python3.10/dist-packages (from torch) (2024.10.0)\n",
            "Requirement already satisfied: sympy==1.13.1 in /usr/local/lib/python3.10/dist-packages (from torch) (1.13.1)\n",
            "Requirement already satisfied: mpmath<1.4,>=1.1.0 in /usr/local/lib/python3.10/dist-packages (from sympy==1.13.1->torch) (1.3.0)\n",
            "Requirement already satisfied: huggingface-hub<1.0,>=0.23.2 in /usr/local/lib/python3.10/dist-packages (from transformers) (0.26.2)\n",
            "Requirement already satisfied: numpy>=1.17 in /usr/local/lib/python3.10/dist-packages (from transformers) (1.26.4)\n",
            "Requirement already satisfied: packaging>=20.0 in /usr/local/lib/python3.10/dist-packages (from transformers) (24.2)\n",
            "Requirement already satisfied: pyyaml>=5.1 in /usr/local/lib/python3.10/dist-packages (from transformers) (6.0.2)\n",
            "Requirement already satisfied: regex!=2019.12.17 in /usr/local/lib/python3.10/dist-packages (from transformers) (2024.9.11)\n",
            "Requirement already satisfied: requests in /usr/local/lib/python3.10/dist-packages (from transformers) (2.32.3)\n",
            "Requirement already satisfied: safetensors>=0.4.1 in /usr/local/lib/python3.10/dist-packages (from transformers) (0.4.5)\n",
            "Requirement already satisfied: tokenizers<0.21,>=0.20 in /usr/local/lib/python3.10/dist-packages (from transformers) (0.20.3)\n",
            "Requirement already satisfied: tqdm>=4.27 in /usr/local/lib/python3.10/dist-packages (from transformers) (4.66.6)\n",
            "Requirement already satisfied: click in /usr/local/lib/python3.10/dist-packages (from nltk) (8.1.7)\n",
            "Requirement already satisfied: joblib in /usr/local/lib/python3.10/dist-packages (from nltk) (1.4.2)\n",
            "Requirement already satisfied: MarkupSafe>=2.0 in /usr/local/lib/python3.10/dist-packages (from jinja2->torch) (3.0.2)\n",
            "Requirement already satisfied: charset-normalizer<4,>=2 in /usr/local/lib/python3.10/dist-packages (from requests->transformers) (3.4.0)\n",
            "Requirement already satisfied: idna<4,>=2.5 in /usr/local/lib/python3.10/dist-packages (from requests->transformers) (3.10)\n",
            "Requirement already satisfied: urllib3<3,>=1.21.1 in /usr/local/lib/python3.10/dist-packages (from requests->transformers) (2.2.3)\n",
            "Requirement already satisfied: certifi>=2017.4.17 in /usr/local/lib/python3.10/dist-packages (from requests->transformers) (2024.8.30)\n"
          ]
        }
      ]
    },
    {
      "cell_type": "code",
      "source": [
        "import nltk\n",
        "nltk.download(\"punkt\")\n",
        "nltk.download(\"punkt_tab\")\n",
        "\n",
        "from nltk.tokenize import sent_tokenize\n",
        "\n",
        "def split_into_sentences(text):\n",
        "    return sent_tokenize(text)\n"
      ],
      "metadata": {
        "colab": {
          "base_uri": "https://localhost:8080/"
        },
        "id": "Cr4f3-g6JDtL",
        "outputId": "1b0c019f-08d3-45f9-e78b-99bd4a4f775a"
      },
      "execution_count": null,
      "outputs": [
        {
          "output_type": "stream",
          "name": "stderr",
          "text": [
            "[nltk_data] Downloading package punkt to /root/nltk_data...\n",
            "[nltk_data]   Unzipping tokenizers/punkt.zip.\n",
            "[nltk_data] Downloading package punkt_tab to /root/nltk_data...\n",
            "[nltk_data]   Unzipping tokenizers/punkt_tab.zip.\n"
          ]
        }
      ]
    },
    {
      "cell_type": "code",
      "source": [
        "from transformers import AutoTokenizer, AutoModel\n",
        "import torch\n",
        "\n",
        "# Load BERT model and tokenizer\n",
        "tokenizer = AutoTokenizer.from_pretrained(\"bert-base-uncased\")\n",
        "model = AutoModel.from_pretrained(\"bert-base-uncased\")\n",
        "\n",
        "def encode_sentences(sentences):\n",
        "    embeddings = []\n",
        "    for sentence in sentences:\n",
        "        inputs = tokenizer(sentence, return_tensors=\"pt\", truncation=True, padding=True, max_length=512)\n",
        "        with torch.no_grad():\n",
        "            outputs = model(**inputs)\n",
        "        # Use the [CLS] token embedding\n",
        "        cls_embedding = outputs.last_hidden_state[:, 0, :]  # Shape: [1, hidden_size]\n",
        "        embeddings.append(cls_embedding.squeeze().numpy())\n",
        "    return embeddings\n"
      ],
      "metadata": {
        "id": "jUSPJI49JGJU"
      },
      "execution_count": null,
      "outputs": []
    },
    {
      "cell_type": "code",
      "source": [
        "from sklearn.metrics.pairwise import cosine_similarity\n",
        "import numpy as np\n",
        "\n",
        "def rank_sentences(embeddings, sentences, num_sentences=3):\n",
        "    # Compute similarity to the mean embedding\n",
        "    mean_embedding = np.mean(embeddings, axis=0).reshape(1, -1)\n",
        "    similarities = cosine_similarity(embeddings, mean_embedding).flatten()\n",
        "\n",
        "    # Rank sentences by similarity\n",
        "    ranked_indices = np.argsort(similarities)[::-1]\n",
        "    top_indices = ranked_indices[:num_sentences]\n",
        "\n",
        "    # Return top sentences\n",
        "    summary = [sentences[i] for i in top_indices]\n",
        "    return \" \".join(summary)\n"
      ],
      "metadata": {
        "id": "IunRB14JJKyH"
      },
      "execution_count": null,
      "outputs": []
    },
    {
      "cell_type": "code",
      "source": [
        "def bertsum_summary(text, num_sentences=3):\n",
        "    # Step 1: Split into sentences\n",
        "    sentences = split_into_sentences(text)\n",
        "\n",
        "    # Step 2: Encode sentences\n",
        "    embeddings = encode_sentences(sentences)\n",
        "\n",
        "    # Step 3: Rank sentences and generate summary\n",
        "    summary = rank_sentences(embeddings, sentences, num_sentences)\n",
        "    return summary\n"
      ],
      "metadata": {
        "id": "NJeb6NcuJL1t"
      },
      "execution_count": null,
      "outputs": []
    },
    {
      "cell_type": "code",
      "source": [
        "text = \"\"\"\n",
        "Artificial intelligence is transforming the way we interact with technology.\n",
        "AI-driven tools are now embedded in everyday devices.\n",
        "With advancements in deep learning, new possibilities are emerging.\n",
        "Natural language processing is improving virtual assistants like Siri and Alexa.\n",
        "Autonomous vehicles and predictive analytics are just a few examples of AI's impact.\n",
        "\"\"\"\n",
        "\n",
        "extractive_summary = bertsum_summary(transcription, num_sentences=2)\n",
        "print(\"Summary:\")\n",
        "print(extractive_summary)\n"
      ],
      "metadata": {
        "colab": {
          "base_uri": "https://localhost:8080/"
        },
        "id": "dRHoi8YgJSLt",
        "outputId": "9fac4f8b-c155-4fad-f5e5-bbfd2b8d58eb"
      },
      "execution_count": null,
      "outputs": [
        {
          "output_type": "stream",
          "name": "stdout",
          "text": [
            "Summary:\n",
            "THROUGH THE DARKNES OF FUTURE PAST THE MAGICIAN LONGS TO SEONE CHANCE A BETWEN TWO WORKSFIREWALK WITH ME\n"
          ]
        }
      ]
    },
    {
      "cell_type": "code",
      "source": [
        "from transformers import pipeline\n",
        "\n",
        "# Load BART summarization pipeline\n",
        "abstractive_summarizer = pipeline(\"summarization\", model=\"facebook/bart-large-cnn\", device=0)  # Enable GPU with device=0\n",
        "\n",
        "# Function for abstractive summarization from an extractive summary\n",
        "def abstractive_summary_from_extractive(extractive_summary, summarizer):\n",
        "    # Dynamic length adjustment based on input length\n",
        "    max_len = min(len(extractive_summary.split()) + 10, 50)\n",
        "    min_len = max(10, int(0.3 * len(extractive_summary.split())))\n",
        "\n",
        "    # Generate abstractive summary\n",
        "    return summarizer(extractive_summary, max_length=max_len, min_length=min_len, do_sample=False)[0]['summary_text']\n",
        "\n",
        "# Example: Extractive summary\n",
        "#extractive_summary = \"AI-driven tools are now embedded in everyday devices. Autonomous vehicles and predictive analytics are just a few examples.\"\n",
        "\n",
        "# Generate abstractive summary\n",
        "final_abstractive_summary = abstractive_summary_from_extractive(extractive_summary, abstractive_summarizer)\n",
        "print(\"Final Abstractive Summary:\", final_abstractive_summary)\n"
      ],
      "metadata": {
        "id": "dO1VANrm7VUN",
        "colab": {
          "base_uri": "https://localhost:8080/"
        },
        "outputId": "415e2c52-0b26-417f-c37e-dbdb4e344a6e"
      },
      "execution_count": null,
      "outputs": [
        {
          "output_type": "stream",
          "name": "stdout",
          "text": [
            "Final Abstractive Summary: One Chance To See You In The Dark is published by Simon & Schuster at £16.99. The film is directed\n"
          ]
        }
      ]
    },
    {
      "cell_type": "markdown",
      "source": [
        "!pip install rogue_score"
      ],
      "metadata": {
        "id": "TaqhGd0gKz4S"
      }
    },
    {
      "cell_type": "code",
      "source": [
        "!pip install rouge_score"
      ],
      "metadata": {
        "colab": {
          "base_uri": "https://localhost:8080/"
        },
        "id": "v7pvXqZvK3QP",
        "outputId": "84f4055b-f2fb-46e6-c629-9c0406b0d1f3"
      },
      "execution_count": null,
      "outputs": [
        {
          "output_type": "stream",
          "name": "stdout",
          "text": [
            "Collecting rouge_score\n",
            "  Downloading rouge_score-0.1.2.tar.gz (17 kB)\n",
            "  Preparing metadata (setup.py) ... \u001b[?25l\u001b[?25hdone\n",
            "Requirement already satisfied: absl-py in /usr/local/lib/python3.10/dist-packages (from rouge_score) (1.4.0)\n",
            "Requirement already satisfied: nltk in /usr/local/lib/python3.10/dist-packages (from rouge_score) (3.9.1)\n",
            "Requirement already satisfied: numpy in /usr/local/lib/python3.10/dist-packages (from rouge_score) (1.26.4)\n",
            "Requirement already satisfied: six>=1.14.0 in /usr/local/lib/python3.10/dist-packages (from rouge_score) (1.16.0)\n",
            "Requirement already satisfied: click in /usr/local/lib/python3.10/dist-packages (from nltk->rouge_score) (8.1.7)\n",
            "Requirement already satisfied: joblib in /usr/local/lib/python3.10/dist-packages (from nltk->rouge_score) (1.4.2)\n",
            "Requirement already satisfied: regex>=2021.8.3 in /usr/local/lib/python3.10/dist-packages (from nltk->rouge_score) (2024.9.11)\n",
            "Requirement already satisfied: tqdm in /usr/local/lib/python3.10/dist-packages (from nltk->rouge_score) (4.66.6)\n",
            "Building wheels for collected packages: rouge_score\n",
            "  Building wheel for rouge_score (setup.py) ... \u001b[?25l\u001b[?25hdone\n",
            "  Created wheel for rouge_score: filename=rouge_score-0.1.2-py3-none-any.whl size=24935 sha256=5dc1f70abb4c778564a81fed389daaeb43900289152e610c532a7178d793438c\n",
            "  Stored in directory: /root/.cache/pip/wheels/5f/dd/89/461065a73be61a532ff8599a28e9beef17985c9e9c31e541b4\n",
            "Successfully built rouge_score\n",
            "Installing collected packages: rouge_score\n",
            "Successfully installed rouge_score-0.1.2\n"
          ]
        }
      ]
    },
    {
      "cell_type": "code",
      "source": [
        "from rouge_score import rouge_scorer\n",
        "\n",
        "# Function to calculate ROUGE scores\n",
        "def compute_rouge(reference, generated):\n",
        "    # Initialize ROUGE scorer\n",
        "    scorer = rouge_scorer.RougeScorer(['rouge1', 'rouge2', 'rougeL'], use_stemmer=True)\n",
        "\n",
        "    # Compute scores\n",
        "    scores = scorer.score(reference, generated)\n",
        "    return scores\n",
        "\n",
        "# Example\n",
        "reference_summary = \"THROUGH THE DARKNES OF FUTURE PAST THE MAGICIAN LONGS TO SEONE CHANCE A BETWEN TWO WORKSFIREWALK WITH ME\"\n",
        "generated_summary = \"One Chance To See You In The Dark is published by Simon & Schuster at £16.99. The film is directed\"\n",
        "\n",
        "# Compute ROUGE scores\n",
        "rouge_scores = compute_rouge(reference_summary, generated_summary)\n",
        "\n",
        "# Display the results\n",
        "print(\"ROUGE-1:\", rouge_scores['rouge1'])\n",
        "print(\"ROUGE-2:\", rouge_scores['rouge2'])\n",
        "print(\"ROUGE-L:\", rouge_scores['rougeL'])\n"
      ],
      "metadata": {
        "id": "c89ntbfz7a00",
        "colab": {
          "base_uri": "https://localhost:8080/"
        },
        "outputId": "3ae3e153-9618-4a66-985b-a3c43516dcd2"
      },
      "execution_count": null,
      "outputs": [
        {
          "output_type": "stream",
          "name": "stdout",
          "text": [
            "ROUGE-1: Score(precision=0.2, recall=0.2222222222222222, fmeasure=0.2105263157894737)\n",
            "ROUGE-2: Score(precision=0.0, recall=0.0, fmeasure=0.0)\n",
            "ROUGE-L: Score(precision=0.1, recall=0.1111111111111111, fmeasure=0.10526315789473685)\n"
          ]
        }
      ]
    },
    {
      "cell_type": "code",
      "source": [],
      "metadata": {
        "id": "gWTj4SFPlCxC"
      },
      "execution_count": null,
      "outputs": []
    }
  ]
}